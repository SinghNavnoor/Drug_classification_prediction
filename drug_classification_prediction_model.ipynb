{
  "cells": [
    {
      "cell_type": "markdown",
      "metadata": {
        "id": "view-in-github",
        "colab_type": "text"
      },
      "source": [
        "<a href=\"https://colab.research.google.com/github/SinghNavnoor/Drug_classification_prediction/blob/main/drug_classification_prediction_model.ipynb\" target=\"_parent\"><img src=\"https://colab.research.google.com/assets/colab-badge.svg\" alt=\"Open In Colab\"/></a>"
      ]
    },
    {
      "cell_type": "markdown",
      "metadata": {
        "id": "J8mcadtqjOtq"
      },
      "source": [
        "### Navnoor Singh Kahlon"
      ]
    },
    {
      "cell_type": "markdown",
      "metadata": {
        "id": "oO3ZGPdKjOtt"
      },
      "source": [
        "## Preparing and Cleaning the data"
      ]
    },
    {
      "cell_type": "markdown",
      "source": [
        "### Importing the data"
      ],
      "metadata": {
        "id": "I3PLpy075eDN"
      }
    },
    {
      "cell_type": "code",
      "execution_count": 241,
      "metadata": {
        "colab": {
          "base_uri": "https://localhost:8080/",
          "height": 206
        },
        "id": "kb8g8y-cjOtu",
        "outputId": "23524ad0-992c-40c6-f74c-3deb92c68977"
      },
      "outputs": [
        {
          "output_type": "execute_result",
          "data": {
            "text/plain": [
              "    Age Gender      BP Cholesterol Na_to_K   Drug\n",
              "0  59.0      M    High        HIGH  13.935  drugQ\n",
              "1  40.0      F  Normal        HIGH  10.103  drugZ\n",
              "2   NaN      M  Normal        HIGH   9.084  drugZ\n",
              "3  62.0      M  Normal        HIGH  16.594  drugZ\n",
              "4  55.0      F    High      NORMAL  10.977  drugQ"
            ],
            "text/html": [
              "\n",
              "  <div id=\"df-4b95717e-fa4b-4c34-b225-8971059d0aa2\">\n",
              "    <div class=\"colab-df-container\">\n",
              "      <div>\n",
              "<style scoped>\n",
              "    .dataframe tbody tr th:only-of-type {\n",
              "        vertical-align: middle;\n",
              "    }\n",
              "\n",
              "    .dataframe tbody tr th {\n",
              "        vertical-align: top;\n",
              "    }\n",
              "\n",
              "    .dataframe thead th {\n",
              "        text-align: right;\n",
              "    }\n",
              "</style>\n",
              "<table border=\"1\" class=\"dataframe\">\n",
              "  <thead>\n",
              "    <tr style=\"text-align: right;\">\n",
              "      <th></th>\n",
              "      <th>Age</th>\n",
              "      <th>Gender</th>\n",
              "      <th>BP</th>\n",
              "      <th>Cholesterol</th>\n",
              "      <th>Na_to_K</th>\n",
              "      <th>Drug</th>\n",
              "    </tr>\n",
              "  </thead>\n",
              "  <tbody>\n",
              "    <tr>\n",
              "      <th>0</th>\n",
              "      <td>59.0</td>\n",
              "      <td>M</td>\n",
              "      <td>High</td>\n",
              "      <td>HIGH</td>\n",
              "      <td>13.935</td>\n",
              "      <td>drugQ</td>\n",
              "    </tr>\n",
              "    <tr>\n",
              "      <th>1</th>\n",
              "      <td>40.0</td>\n",
              "      <td>F</td>\n",
              "      <td>Normal</td>\n",
              "      <td>HIGH</td>\n",
              "      <td>10.103</td>\n",
              "      <td>drugZ</td>\n",
              "    </tr>\n",
              "    <tr>\n",
              "      <th>2</th>\n",
              "      <td>NaN</td>\n",
              "      <td>M</td>\n",
              "      <td>Normal</td>\n",
              "      <td>HIGH</td>\n",
              "      <td>9.084</td>\n",
              "      <td>drugZ</td>\n",
              "    </tr>\n",
              "    <tr>\n",
              "      <th>3</th>\n",
              "      <td>62.0</td>\n",
              "      <td>M</td>\n",
              "      <td>Normal</td>\n",
              "      <td>HIGH</td>\n",
              "      <td>16.594</td>\n",
              "      <td>drugZ</td>\n",
              "    </tr>\n",
              "    <tr>\n",
              "      <th>4</th>\n",
              "      <td>55.0</td>\n",
              "      <td>F</td>\n",
              "      <td>High</td>\n",
              "      <td>NORMAL</td>\n",
              "      <td>10.977</td>\n",
              "      <td>drugQ</td>\n",
              "    </tr>\n",
              "  </tbody>\n",
              "</table>\n",
              "</div>\n",
              "      <button class=\"colab-df-convert\" onclick=\"convertToInteractive('df-4b95717e-fa4b-4c34-b225-8971059d0aa2')\"\n",
              "              title=\"Convert this dataframe to an interactive table.\"\n",
              "              style=\"display:none;\">\n",
              "        \n",
              "  <svg xmlns=\"http://www.w3.org/2000/svg\" height=\"24px\"viewBox=\"0 0 24 24\"\n",
              "       width=\"24px\">\n",
              "    <path d=\"M0 0h24v24H0V0z\" fill=\"none\"/>\n",
              "    <path d=\"M18.56 5.44l.94 2.06.94-2.06 2.06-.94-2.06-.94-.94-2.06-.94 2.06-2.06.94zm-11 1L8.5 8.5l.94-2.06 2.06-.94-2.06-.94L8.5 2.5l-.94 2.06-2.06.94zm10 10l.94 2.06.94-2.06 2.06-.94-2.06-.94-.94-2.06-.94 2.06-2.06.94z\"/><path d=\"M17.41 7.96l-1.37-1.37c-.4-.4-.92-.59-1.43-.59-.52 0-1.04.2-1.43.59L10.3 9.45l-7.72 7.72c-.78.78-.78 2.05 0 2.83L4 21.41c.39.39.9.59 1.41.59.51 0 1.02-.2 1.41-.59l7.78-7.78 2.81-2.81c.8-.78.8-2.07 0-2.86zM5.41 20L4 18.59l7.72-7.72 1.47 1.35L5.41 20z\"/>\n",
              "  </svg>\n",
              "      </button>\n",
              "      \n",
              "  <style>\n",
              "    .colab-df-container {\n",
              "      display:flex;\n",
              "      flex-wrap:wrap;\n",
              "      gap: 12px;\n",
              "    }\n",
              "\n",
              "    .colab-df-convert {\n",
              "      background-color: #E8F0FE;\n",
              "      border: none;\n",
              "      border-radius: 50%;\n",
              "      cursor: pointer;\n",
              "      display: none;\n",
              "      fill: #1967D2;\n",
              "      height: 32px;\n",
              "      padding: 0 0 0 0;\n",
              "      width: 32px;\n",
              "    }\n",
              "\n",
              "    .colab-df-convert:hover {\n",
              "      background-color: #E2EBFA;\n",
              "      box-shadow: 0px 1px 2px rgba(60, 64, 67, 0.3), 0px 1px 3px 1px rgba(60, 64, 67, 0.15);\n",
              "      fill: #174EA6;\n",
              "    }\n",
              "\n",
              "    [theme=dark] .colab-df-convert {\n",
              "      background-color: #3B4455;\n",
              "      fill: #D2E3FC;\n",
              "    }\n",
              "\n",
              "    [theme=dark] .colab-df-convert:hover {\n",
              "      background-color: #434B5C;\n",
              "      box-shadow: 0px 1px 3px 1px rgba(0, 0, 0, 0.15);\n",
              "      filter: drop-shadow(0px 1px 2px rgba(0, 0, 0, 0.3));\n",
              "      fill: #FFFFFF;\n",
              "    }\n",
              "  </style>\n",
              "\n",
              "      <script>\n",
              "        const buttonEl =\n",
              "          document.querySelector('#df-4b95717e-fa4b-4c34-b225-8971059d0aa2 button.colab-df-convert');\n",
              "        buttonEl.style.display =\n",
              "          google.colab.kernel.accessAllowed ? 'block' : 'none';\n",
              "\n",
              "        async function convertToInteractive(key) {\n",
              "          const element = document.querySelector('#df-4b95717e-fa4b-4c34-b225-8971059d0aa2');\n",
              "          const dataTable =\n",
              "            await google.colab.kernel.invokeFunction('convertToInteractive',\n",
              "                                                     [key], {});\n",
              "          if (!dataTable) return;\n",
              "\n",
              "          const docLinkHtml = 'Like what you see? Visit the ' +\n",
              "            '<a target=\"_blank\" href=https://colab.research.google.com/notebooks/data_table.ipynb>data table notebook</a>'\n",
              "            + ' to learn more about interactive tables.';\n",
              "          element.innerHTML = '';\n",
              "          dataTable['output_type'] = 'display_data';\n",
              "          await google.colab.output.renderOutput(dataTable, element);\n",
              "          const docLink = document.createElement('div');\n",
              "          docLink.innerHTML = docLinkHtml;\n",
              "          element.appendChild(docLink);\n",
              "        }\n",
              "      </script>\n",
              "    </div>\n",
              "  </div>\n",
              "  "
            ]
          },
          "metadata": {},
          "execution_count": 241
        }
      ],
      "source": [
        "#importing pandas\n",
        "import pandas as pd\n",
        "\n",
        "#defining the data with a variable\n",
        "df = pd.read_csv('/content/drug_data.csv')\n",
        "df.head()"
      ]
    },
    {
      "cell_type": "code",
      "execution_count": 242,
      "metadata": {
        "colab": {
          "base_uri": "https://localhost:8080/"
        },
        "id": "jPHObDUUjOtv",
        "outputId": "0bb1adb6-287a-4c67-f2d0-ac6be5b6a973"
      },
      "outputs": [
        {
          "output_type": "stream",
          "name": "stdout",
          "text": [
            "<class 'pandas.core.frame.DataFrame'>\n",
            "RangeIndex: 296 entries, 0 to 295\n",
            "Data columns (total 6 columns):\n",
            " #   Column       Non-Null Count  Dtype  \n",
            "---  ------       --------------  -----  \n",
            " 0   Age          237 non-null    float64\n",
            " 1   Gender       296 non-null    object \n",
            " 2   BP           221 non-null    object \n",
            " 3   Cholesterol  296 non-null    object \n",
            " 4   Na_to_K      296 non-null    object \n",
            " 5   Drug         296 non-null    object \n",
            "dtypes: float64(1), object(5)\n",
            "memory usage: 14.0+ KB\n"
          ]
        }
      ],
      "source": [
        "#getting a look at the data. \n",
        "df.info()"
      ]
    },
    {
      "cell_type": "code",
      "execution_count": 243,
      "metadata": {
        "colab": {
          "base_uri": "https://localhost:8080/"
        },
        "id": "sXa7m66DjOtw",
        "outputId": "9ac2fc99-b10a-493e-b242-1b49bbc2d16c"
      },
      "outputs": [
        {
          "output_type": "execute_result",
          "data": {
            "text/plain": [
              "(296, 6)"
            ]
          },
          "metadata": {},
          "execution_count": 243
        }
      ],
      "source": [
        "#looking at the shape of the data\n",
        "df.shape"
      ]
    },
    {
      "cell_type": "markdown",
      "metadata": {
        "id": "eFoMVBikjOtw"
      },
      "source": [
        "### Looking for duplicate values "
      ]
    },
    {
      "cell_type": "code",
      "execution_count": 244,
      "metadata": {
        "colab": {
          "base_uri": "https://localhost:8080/"
        },
        "id": "FxwUKDuNjOtx",
        "outputId": "1cfc873e-f175-44dd-acf4-e3c59bbdc636"
      },
      "outputs": [
        {
          "output_type": "execute_result",
          "data": {
            "text/plain": [
              "15"
            ]
          },
          "metadata": {},
          "execution_count": 244
        }
      ],
      "source": [
        "#finding total duplicates\n",
        "df.duplicated().sum()"
      ]
    },
    {
      "cell_type": "code",
      "execution_count": 245,
      "metadata": {
        "id": "phUSy6g-jOty"
      },
      "outputs": [],
      "source": [
        "#Dropping the duplicate values. \n",
        "df = df.drop_duplicates()"
      ]
    },
    {
      "cell_type": "code",
      "execution_count": 246,
      "metadata": {
        "colab": {
          "base_uri": "https://localhost:8080/"
        },
        "id": "tBdIGS44jOty",
        "outputId": "a4771151-bbdf-40fd-9aa7-572d70e2a5d0"
      },
      "outputs": [
        {
          "output_type": "execute_result",
          "data": {
            "text/plain": [
              "0"
            ]
          },
          "metadata": {},
          "execution_count": 246
        }
      ],
      "source": [
        "# Checking to see if there are any other duplicates left\n",
        "df.duplicated().sum()"
      ]
    },
    {
      "cell_type": "code",
      "execution_count": 247,
      "metadata": {
        "colab": {
          "base_uri": "https://localhost:8080/"
        },
        "id": "Qn_MCn6ejOty",
        "outputId": "5b0a434f-8a16-45a9-aa3a-46ff92e5d621"
      },
      "outputs": [
        {
          "output_type": "execute_result",
          "data": {
            "text/plain": [
              "(281, 6)"
            ]
          },
          "metadata": {},
          "execution_count": 247
        }
      ],
      "source": [
        "#looking at the shape after dropping duplicates\n",
        "df.shape"
      ]
    },
    {
      "cell_type": "markdown",
      "metadata": {
        "id": "hBsAb2YQjOtz"
      },
      "source": [
        "### Looking for missing values"
      ]
    },
    {
      "cell_type": "code",
      "execution_count": 248,
      "metadata": {
        "colab": {
          "base_uri": "https://localhost:8080/"
        },
        "id": "Q1lP71jkjOtz",
        "outputId": "a43448ac-acb1-4ac7-da60-9f8ec68d8b36"
      },
      "outputs": [
        {
          "output_type": "execute_result",
          "data": {
            "text/plain": [
              "Age            54\n",
              "Gender          0\n",
              "BP             75\n",
              "Cholesterol     0\n",
              "Na_to_K         0\n",
              "Drug            0\n",
              "dtype: int64"
            ]
          },
          "metadata": {},
          "execution_count": 248
        }
      ],
      "source": [
        "#summing up all the null values in every column\n",
        "df.isna().sum()"
      ]
    },
    {
      "cell_type": "markdown",
      "metadata": {
        "id": "SZEyoHTcjOtz"
      },
      "source": [
        "##### The age and BP column has missing values. "
      ]
    },
    {
      "cell_type": "markdown",
      "metadata": {
        "id": "LfoaQEqljOtz"
      },
      "source": [
        "#### Exploring the Age and BP columns "
      ]
    },
    {
      "cell_type": "markdown",
      "metadata": {
        "id": "3dSWZRxAjOt0"
      },
      "source": [
        "##### Age"
      ]
    },
    {
      "cell_type": "code",
      "execution_count": 249,
      "metadata": {
        "colab": {
          "base_uri": "https://localhost:8080/"
        },
        "id": "LlhqQT3ejOt0",
        "outputId": "7097f922-3b3e-4a4a-bad2-f8dd5bd13a89"
      },
      "outputs": [
        {
          "output_type": "execute_result",
          "data": {
            "text/plain": [
              "36.0     8\n",
              "55.0     7\n",
              "61.0     7\n",
              "32.0     7\n",
              "42.0     7\n",
              "26.0     6\n",
              "39.0     6\n",
              "67.0     6\n",
              "53.0     6\n",
              "37.0     6\n",
              "60.0     6\n",
              "23.0     6\n",
              "43.0     6\n",
              "31.0     6\n",
              "28.0     6\n",
              "57.0     5\n",
              "70.0     5\n",
              "49.0     5\n",
              "47.0     4\n",
              "40.0     4\n",
              "24.0     4\n",
              "45.0     4\n",
              "19.0     4\n",
              "48.0     4\n",
              "50.0     4\n",
              "65.0     4\n",
              "56.0     4\n",
              "59.0     4\n",
              "58.0     4\n",
              "69.0     4\n",
              "29.0     4\n",
              "44.0     4\n",
              "20.0     4\n",
              "74.0     3\n",
              "35.0     3\n",
              "66.0     3\n",
              "73.0     3\n",
              "72.0     3\n",
              "62.0     3\n",
              "18.0     3\n",
              "22.0     3\n",
              "54.0     3\n",
              "71.0     2\n",
              "41.0     2\n",
              "64.0     2\n",
              "51.0     2\n",
              "21.0     2\n",
              "30.0     2\n",
              "52.0     2\n",
              "34.0     2\n",
              "38.0     2\n",
              "15.0     2\n",
              "16.0     2\n",
              "46.0     2\n",
              "63.0     1\n",
              "33.0     1\n",
              "25.0     1\n",
              "570.0    1\n",
              "68.0     1\n",
              "Name: Age, dtype: int64"
            ]
          },
          "metadata": {},
          "execution_count": 249
        }
      ],
      "source": [
        "#Age value counts \n",
        "df['Age'].value_counts()"
      ]
    },
    {
      "cell_type": "markdown",
      "metadata": {
        "id": "d1MTrcggjOt0"
      },
      "source": [
        "Going to impute the missing values of Age with its mean because that will give us the best number to fill the null values and not loose any rows. "
      ]
    },
    {
      "cell_type": "code",
      "execution_count": 250,
      "metadata": {
        "colab": {
          "base_uri": "https://localhost:8080/"
        },
        "id": "4sto8mAmjOt0",
        "outputId": "49b6d68b-cbb5-44f8-ef6c-a8d457b7218d"
      },
      "outputs": [
        {
          "output_type": "execute_result",
          "data": {
            "text/plain": [
              "47.47577092511013"
            ]
          },
          "metadata": {},
          "execution_count": 250
        }
      ],
      "source": [
        "#getting the mean of column Age\n",
        "age_mean = df['Age'].mean()\n",
        "age_mean"
      ]
    },
    {
      "cell_type": "code",
      "execution_count": 251,
      "metadata": {
        "colab": {
          "base_uri": "https://localhost:8080/"
        },
        "id": "LkJ_N-ZFjOt0",
        "outputId": "7cd48595-8267-4101-9087-e48e3d34b046"
      },
      "outputs": [
        {
          "output_type": "stream",
          "name": "stderr",
          "text": [
            "/usr/local/lib/python3.8/dist-packages/pandas/core/generic.py:6392: SettingWithCopyWarning: \n",
            "A value is trying to be set on a copy of a slice from a DataFrame\n",
            "\n",
            "See the caveats in the documentation: https://pandas.pydata.org/pandas-docs/stable/user_guide/indexing.html#returning-a-view-versus-a-copy\n",
            "  return self._update_inplace(result)\n"
          ]
        }
      ],
      "source": [
        "#imputting null values in Age with the age_mean\n",
        "df['Age'].fillna(age_mean, inplace=True) "
      ]
    },
    {
      "cell_type": "code",
      "execution_count": 252,
      "metadata": {
        "colab": {
          "base_uri": "https://localhost:8080/"
        },
        "id": "x6ZhE7ZvjOt1",
        "outputId": "a2dd0f2c-7407-4880-f790-240a587cb932"
      },
      "outputs": [
        {
          "output_type": "execute_result",
          "data": {
            "text/plain": [
              "Age             0\n",
              "Gender          0\n",
              "BP             75\n",
              "Cholesterol     0\n",
              "Na_to_K         0\n",
              "Drug            0\n",
              "dtype: int64"
            ]
          },
          "metadata": {},
          "execution_count": 252
        }
      ],
      "source": [
        "#confirming that Age has zero null values now\n",
        "df.isna().sum()"
      ]
    },
    {
      "cell_type": "markdown",
      "metadata": {
        "id": "VV0X34y2jOt1"
      },
      "source": [
        "#### BP"
      ]
    },
    {
      "cell_type": "code",
      "execution_count": 253,
      "metadata": {
        "colab": {
          "base_uri": "https://localhost:8080/"
        },
        "id": "ksrlYoCEjOt1",
        "outputId": "8711cc50-bc87-4bc2-dbe7-17c392f9f965"
      },
      "outputs": [
        {
          "output_type": "execute_result",
          "data": {
            "text/plain": [
              "High      128\n",
              "Normal     46\n",
              "Low        32\n",
              "Name: BP, dtype: int64"
            ]
          },
          "metadata": {},
          "execution_count": 253
        }
      ],
      "source": [
        "df['BP'].value_counts()"
      ]
    },
    {
      "cell_type": "markdown",
      "metadata": {
        "id": "qC9vU2d7jOt1"
      },
      "source": [
        "Going to fill the null values of BP with the mode value because it gives us a good guess of what the value would be and not loose any rows. "
      ]
    },
    {
      "cell_type": "code",
      "execution_count": 254,
      "metadata": {
        "id": "Hb0XufoMjOt1"
      },
      "outputs": [],
      "source": [
        "#Replacing all missing values with mode: High\n",
        "df['BP'].fillna('High', inplace=True)"
      ]
    },
    {
      "cell_type": "code",
      "source": [
        "#checking on the BP column\n",
        "df['BP'].value_counts()"
      ],
      "metadata": {
        "colab": {
          "base_uri": "https://localhost:8080/"
        },
        "id": "vwqDoASv69Ik",
        "outputId": "56aec8f2-4e70-44b2-97dd-dfb2aab7e0fc"
      },
      "execution_count": 255,
      "outputs": [
        {
          "output_type": "execute_result",
          "data": {
            "text/plain": [
              "High      203\n",
              "Normal     46\n",
              "Low        32\n",
              "Name: BP, dtype: int64"
            ]
          },
          "metadata": {},
          "execution_count": 255
        }
      ]
    },
    {
      "cell_type": "code",
      "execution_count": 256,
      "metadata": {
        "colab": {
          "base_uri": "https://localhost:8080/"
        },
        "id": "-ryLyaCVjOt1",
        "outputId": "d3500571-6fe8-4df2-f735-e08387412c74"
      },
      "outputs": [
        {
          "output_type": "execute_result",
          "data": {
            "text/plain": [
              "Age            0\n",
              "Gender         0\n",
              "BP             0\n",
              "Cholesterol    0\n",
              "Na_to_K        0\n",
              "Drug           0\n",
              "dtype: int64"
            ]
          },
          "metadata": {},
          "execution_count": 256
        }
      ],
      "source": [
        "#confirming no more null values exist\n",
        "df.isna().sum()"
      ]
    },
    {
      "cell_type": "markdown",
      "metadata": {
        "id": "9h5WwXCCjOt1"
      },
      "source": [
        "### Checking if dtypes match their actual descriptions. "
      ]
    },
    {
      "cell_type": "code",
      "execution_count": 257,
      "metadata": {
        "colab": {
          "base_uri": "https://localhost:8080/"
        },
        "id": "84i5XJACjOt2",
        "outputId": "09730be8-e288-4733-8c51-d003a7d67448"
      },
      "outputs": [
        {
          "output_type": "stream",
          "name": "stdout",
          "text": [
            "<class 'pandas.core.frame.DataFrame'>\n",
            "Int64Index: 281 entries, 0 to 295\n",
            "Data columns (total 6 columns):\n",
            " #   Column       Non-Null Count  Dtype  \n",
            "---  ------       --------------  -----  \n",
            " 0   Age          281 non-null    float64\n",
            " 1   Gender       281 non-null    object \n",
            " 2   BP           281 non-null    object \n",
            " 3   Cholesterol  281 non-null    object \n",
            " 4   Na_to_K      281 non-null    object \n",
            " 5   Drug         281 non-null    object \n",
            "dtypes: float64(1), object(5)\n",
            "memory usage: 15.4+ KB\n"
          ]
        }
      ],
      "source": [
        "df.info()"
      ]
    },
    {
      "cell_type": "code",
      "execution_count": 258,
      "metadata": {
        "colab": {
          "base_uri": "https://localhost:8080/",
          "height": 112
        },
        "id": "gG8C5fbHjOt2",
        "outputId": "b769f446-536d-455c-99a9-2cc03082f083"
      },
      "outputs": [
        {
          "output_type": "execute_result",
          "data": {
            "text/plain": [
              "    Age Gender      BP Cholesterol Na_to_K   Drug\n",
              "0  59.0      M    High        HIGH  13.935  drugQ\n",
              "1  40.0      F  Normal        HIGH  10.103  drugZ"
            ],
            "text/html": [
              "\n",
              "  <div id=\"df-60fdea42-de27-493c-9de2-08c3a732ef56\">\n",
              "    <div class=\"colab-df-container\">\n",
              "      <div>\n",
              "<style scoped>\n",
              "    .dataframe tbody tr th:only-of-type {\n",
              "        vertical-align: middle;\n",
              "    }\n",
              "\n",
              "    .dataframe tbody tr th {\n",
              "        vertical-align: top;\n",
              "    }\n",
              "\n",
              "    .dataframe thead th {\n",
              "        text-align: right;\n",
              "    }\n",
              "</style>\n",
              "<table border=\"1\" class=\"dataframe\">\n",
              "  <thead>\n",
              "    <tr style=\"text-align: right;\">\n",
              "      <th></th>\n",
              "      <th>Age</th>\n",
              "      <th>Gender</th>\n",
              "      <th>BP</th>\n",
              "      <th>Cholesterol</th>\n",
              "      <th>Na_to_K</th>\n",
              "      <th>Drug</th>\n",
              "    </tr>\n",
              "  </thead>\n",
              "  <tbody>\n",
              "    <tr>\n",
              "      <th>0</th>\n",
              "      <td>59.0</td>\n",
              "      <td>M</td>\n",
              "      <td>High</td>\n",
              "      <td>HIGH</td>\n",
              "      <td>13.935</td>\n",
              "      <td>drugQ</td>\n",
              "    </tr>\n",
              "    <tr>\n",
              "      <th>1</th>\n",
              "      <td>40.0</td>\n",
              "      <td>F</td>\n",
              "      <td>Normal</td>\n",
              "      <td>HIGH</td>\n",
              "      <td>10.103</td>\n",
              "      <td>drugZ</td>\n",
              "    </tr>\n",
              "  </tbody>\n",
              "</table>\n",
              "</div>\n",
              "      <button class=\"colab-df-convert\" onclick=\"convertToInteractive('df-60fdea42-de27-493c-9de2-08c3a732ef56')\"\n",
              "              title=\"Convert this dataframe to an interactive table.\"\n",
              "              style=\"display:none;\">\n",
              "        \n",
              "  <svg xmlns=\"http://www.w3.org/2000/svg\" height=\"24px\"viewBox=\"0 0 24 24\"\n",
              "       width=\"24px\">\n",
              "    <path d=\"M0 0h24v24H0V0z\" fill=\"none\"/>\n",
              "    <path d=\"M18.56 5.44l.94 2.06.94-2.06 2.06-.94-2.06-.94-.94-2.06-.94 2.06-2.06.94zm-11 1L8.5 8.5l.94-2.06 2.06-.94-2.06-.94L8.5 2.5l-.94 2.06-2.06.94zm10 10l.94 2.06.94-2.06 2.06-.94-2.06-.94-.94-2.06-.94 2.06-2.06.94z\"/><path d=\"M17.41 7.96l-1.37-1.37c-.4-.4-.92-.59-1.43-.59-.52 0-1.04.2-1.43.59L10.3 9.45l-7.72 7.72c-.78.78-.78 2.05 0 2.83L4 21.41c.39.39.9.59 1.41.59.51 0 1.02-.2 1.41-.59l7.78-7.78 2.81-2.81c.8-.78.8-2.07 0-2.86zM5.41 20L4 18.59l7.72-7.72 1.47 1.35L5.41 20z\"/>\n",
              "  </svg>\n",
              "      </button>\n",
              "      \n",
              "  <style>\n",
              "    .colab-df-container {\n",
              "      display:flex;\n",
              "      flex-wrap:wrap;\n",
              "      gap: 12px;\n",
              "    }\n",
              "\n",
              "    .colab-df-convert {\n",
              "      background-color: #E8F0FE;\n",
              "      border: none;\n",
              "      border-radius: 50%;\n",
              "      cursor: pointer;\n",
              "      display: none;\n",
              "      fill: #1967D2;\n",
              "      height: 32px;\n",
              "      padding: 0 0 0 0;\n",
              "      width: 32px;\n",
              "    }\n",
              "\n",
              "    .colab-df-convert:hover {\n",
              "      background-color: #E2EBFA;\n",
              "      box-shadow: 0px 1px 2px rgba(60, 64, 67, 0.3), 0px 1px 3px 1px rgba(60, 64, 67, 0.15);\n",
              "      fill: #174EA6;\n",
              "    }\n",
              "\n",
              "    [theme=dark] .colab-df-convert {\n",
              "      background-color: #3B4455;\n",
              "      fill: #D2E3FC;\n",
              "    }\n",
              "\n",
              "    [theme=dark] .colab-df-convert:hover {\n",
              "      background-color: #434B5C;\n",
              "      box-shadow: 0px 1px 3px 1px rgba(0, 0, 0, 0.15);\n",
              "      filter: drop-shadow(0px 1px 2px rgba(0, 0, 0, 0.3));\n",
              "      fill: #FFFFFF;\n",
              "    }\n",
              "  </style>\n",
              "\n",
              "      <script>\n",
              "        const buttonEl =\n",
              "          document.querySelector('#df-60fdea42-de27-493c-9de2-08c3a732ef56 button.colab-df-convert');\n",
              "        buttonEl.style.display =\n",
              "          google.colab.kernel.accessAllowed ? 'block' : 'none';\n",
              "\n",
              "        async function convertToInteractive(key) {\n",
              "          const element = document.querySelector('#df-60fdea42-de27-493c-9de2-08c3a732ef56');\n",
              "          const dataTable =\n",
              "            await google.colab.kernel.invokeFunction('convertToInteractive',\n",
              "                                                     [key], {});\n",
              "          if (!dataTable) return;\n",
              "\n",
              "          const docLinkHtml = 'Like what you see? Visit the ' +\n",
              "            '<a target=\"_blank\" href=https://colab.research.google.com/notebooks/data_table.ipynb>data table notebook</a>'\n",
              "            + ' to learn more about interactive tables.';\n",
              "          element.innerHTML = '';\n",
              "          dataTable['output_type'] = 'display_data';\n",
              "          await google.colab.output.renderOutput(dataTable, element);\n",
              "          const docLink = document.createElement('div');\n",
              "          docLink.innerHTML = docLinkHtml;\n",
              "          element.appendChild(docLink);\n",
              "        }\n",
              "      </script>\n",
              "    </div>\n",
              "  </div>\n",
              "  "
            ]
          },
          "metadata": {},
          "execution_count": 258
        }
      ],
      "source": [
        "df.head(2)"
      ]
    },
    {
      "cell_type": "markdown",
      "metadata": {
        "id": "eaG9uWVJjOt2"
      },
      "source": [
        "#### Na_to_K should be float NOT object."
      ]
    },
    {
      "cell_type": "markdown",
      "metadata": {
        "id": "udjKHwOnjOt2"
      },
      "source": [
        "#### Fixing dtype for Na_to_K"
      ]
    },
    {
      "cell_type": "markdown",
      "metadata": {
        "id": "CIKYg1B6jOt2"
      },
      "source": [
        "##### While changing the dtype to float64 I got a error because one of the values has a '_' at the end. So I will be removing that using str.replace and then converting it to float. "
      ]
    },
    {
      "cell_type": "code",
      "execution_count": 259,
      "metadata": {
        "id": "4b8SzryNjOt2"
      },
      "outputs": [],
      "source": [
        "#dealing with '_' in the column\n",
        "df['Na_to_K'] = df['Na_to_K'].str.replace('_','').astype(float)\n",
        "#source: https://stackoverflow.com/questions/64729222/how-to-remove-sign-from-float-dtype-object-but-containing-values-with-si"
      ]
    },
    {
      "cell_type": "code",
      "execution_count": 260,
      "metadata": {
        "colab": {
          "base_uri": "https://localhost:8080/"
        },
        "id": "LVtHtUrljOt2",
        "outputId": "a8f7eed0-5ce0-4706-9cef-5d6d0421611b"
      },
      "outputs": [
        {
          "output_type": "execute_result",
          "data": {
            "text/plain": [
              "0      13.935\n",
              "1      10.103\n",
              "2       9.084\n",
              "3      16.594\n",
              "4      10.977\n",
              "        ...  \n",
              "290    18.295\n",
              "292    10.065\n",
              "293    11.014\n",
              "294     9.475\n",
              "295    12.879\n",
              "Name: Na_to_K, Length: 281, dtype: float64"
            ]
          },
          "metadata": {},
          "execution_count": 260
        }
      ],
      "source": [
        "#converting Na_to_K into a float64\n",
        "df['Na_to_K'].astype('float64')"
      ]
    },
    {
      "cell_type": "code",
      "execution_count": 261,
      "metadata": {
        "colab": {
          "base_uri": "https://localhost:8080/"
        },
        "id": "RNsPXfp1jOt2",
        "outputId": "bdb679ca-5928-498e-d242-725beb5ad914"
      },
      "outputs": [
        {
          "output_type": "stream",
          "name": "stdout",
          "text": [
            "<class 'pandas.core.frame.DataFrame'>\n",
            "Int64Index: 281 entries, 0 to 295\n",
            "Data columns (total 6 columns):\n",
            " #   Column       Non-Null Count  Dtype  \n",
            "---  ------       --------------  -----  \n",
            " 0   Age          281 non-null    float64\n",
            " 1   Gender       281 non-null    object \n",
            " 2   BP           281 non-null    object \n",
            " 3   Cholesterol  281 non-null    object \n",
            " 4   Na_to_K      281 non-null    float64\n",
            " 5   Drug         281 non-null    object \n",
            "dtypes: float64(2), object(4)\n",
            "memory usage: 15.4+ KB\n"
          ]
        }
      ],
      "source": [
        "#confirming that all the dtypes are correct. \n",
        "df.info()"
      ]
    },
    {
      "cell_type": "markdown",
      "source": [
        "### Looking for inconsistencies"
      ],
      "metadata": {
        "id": "V35goBJR75rF"
      }
    },
    {
      "cell_type": "markdown",
      "source": [
        "##### Inconsistencies in Object types. "
      ],
      "metadata": {
        "id": "ZXYyO-vg7_Er"
      }
    },
    {
      "cell_type": "code",
      "execution_count": 262,
      "metadata": {
        "colab": {
          "base_uri": "https://localhost:8080/"
        },
        "id": "AgP6tR2zjOt3",
        "outputId": "2c4dc2b7-1304-43ae-fa1d-e1da7fa7244f"
      },
      "outputs": [
        {
          "output_type": "stream",
          "name": "stdout",
          "text": [
            "The count values for Gender are:\n",
            "M         140\n",
            "F         131\n",
            "male        4\n",
            "female      2\n",
            "Female      1\n",
            "Male        1\n",
            "femal       1\n",
            "Femal       1\n",
            "Name: Gender, dtype: int64\n",
            "-----------------------------------------------\n",
            "\n",
            "___\n",
            "The count values for BP are:\n",
            "High      203\n",
            "Normal     46\n",
            "Low        32\n",
            "Name: BP, dtype: int64\n",
            "-----------------------------------------------\n",
            "\n",
            "___\n",
            "The count values for Cholesterol are:\n",
            "HIGH      145\n",
            "NORMAL    114\n",
            "norm        9\n",
            "high        7\n",
            "NORM        6\n",
            "Name: Cholesterol, dtype: int64\n",
            "-----------------------------------------------\n",
            "\n",
            "___\n",
            "The count values for Drug are:\n",
            "drugZ    147\n",
            "drugQ    134\n",
            "Name: Drug, dtype: int64\n",
            "-----------------------------------------------\n",
            "\n",
            "___\n"
          ]
        }
      ],
      "source": [
        "#Looping through all the columns and looking for any inconsistencies.\n",
        "all_columns = df.columns\n",
        "data_types = df.dtypes\n",
        "\n",
        "for i in all_columns:\n",
        "  if df[i].dtypes == object:\n",
        "    print(f'The count values for {i} are:')\n",
        "    print(df[i].value_counts())\n",
        "    print('-----------------------------------------------')\n",
        "    print('\\n___')"
      ]
    },
    {
      "cell_type": "markdown",
      "metadata": {
        "id": "gDbGc87xjOt3"
      },
      "source": [
        "##### Our Target column has no inconsistencies. \n",
        "##### The Gender and Cholesterol feature columns do have inconsistencies and I will be working on them. "
      ]
    },
    {
      "cell_type": "markdown",
      "metadata": {
        "id": "3V8_S88YjOt3"
      },
      "source": [
        "##### Fixing inconsistencies in the Gender Columns. "
      ]
    },
    {
      "cell_type": "code",
      "execution_count": 263,
      "metadata": {
        "id": "0YQbSs8fjOt3"
      },
      "outputs": [],
      "source": [
        "#using .replace to fix the column \n",
        "df.replace({'Gender' : {'male' : 'M',\n",
        "                    'female': 'F',\n",
        "                    'Female' : 'F',\n",
        "                    'Male': 'M',\n",
        "                    'femal': 'F',\n",
        "                    'Femal': 'F'}}, inplace=True)"
      ]
    },
    {
      "cell_type": "markdown",
      "metadata": {
        "id": "KWHKBmhJjOt3"
      },
      "source": [
        "##### Fixing inconsistencies in the Cholesterol Columns. "
      ]
    },
    {
      "cell_type": "code",
      "execution_count": 264,
      "metadata": {
        "id": "slSGvr2NjOt3"
      },
      "outputs": [],
      "source": [
        "#using .replace() to fix the column\n",
        "df.replace({'Cholesterol' : {'norm' : 'Normal',\n",
        "                             'NORMAL': 'Normal',\n",
        "                             'HIGH': 'High',\n",
        "                             'high': 'High',\n",
        "                             'NORM': 'Normal'}}, inplace=True)"
      ]
    },
    {
      "cell_type": "code",
      "execution_count": 265,
      "metadata": {
        "colab": {
          "base_uri": "https://localhost:8080/"
        },
        "id": "Ik3dm0ZPjOt3",
        "outputId": "86a6d947-dca8-4348-b466-da0f88adcab5"
      },
      "outputs": [
        {
          "output_type": "stream",
          "name": "stdout",
          "text": [
            "The count values for Gender are:\n",
            "M    145\n",
            "F    136\n",
            "Name: Gender, dtype: int64\n",
            "-----------------------------------------------\n",
            "\n",
            "___\n",
            "The count values for BP are:\n",
            "High      203\n",
            "Normal     46\n",
            "Low        32\n",
            "Name: BP, dtype: int64\n",
            "-----------------------------------------------\n",
            "\n",
            "___\n",
            "The count values for Cholesterol are:\n",
            "High      152\n",
            "Normal    129\n",
            "Name: Cholesterol, dtype: int64\n",
            "-----------------------------------------------\n",
            "\n",
            "___\n",
            "The count values for Drug are:\n",
            "drugZ    147\n",
            "drugQ    134\n",
            "Name: Drug, dtype: int64\n",
            "-----------------------------------------------\n",
            "\n",
            "___\n"
          ]
        }
      ],
      "source": [
        "#Confirming no inconsistencies remain in the object column \n",
        "all_columns = df.columns\n",
        "data_types = df.dtypes\n",
        "\n",
        "for i in all_columns:\n",
        "  if df[i].dtypes == object:\n",
        "    print(f'The count values for {i} are:')\n",
        "    print(df[i].value_counts())\n",
        "    print('-----------------------------------------------')\n",
        "    print('\\n___')"
      ]
    },
    {
      "cell_type": "markdown",
      "metadata": {
        "id": "pvW7sphZjOt3"
      },
      "source": [
        "#### Inconsistent in the numeric columns. "
      ]
    },
    {
      "cell_type": "code",
      "execution_count": 266,
      "metadata": {
        "colab": {
          "base_uri": "https://localhost:8080/"
        },
        "id": "87_nBP4RjOt4",
        "outputId": "307dd034-6941-4897-caad-54668d9c9f78"
      },
      "outputs": [
        {
          "output_type": "stream",
          "name": "stdout",
          "text": [
            "The count values for Age are:\n",
            "68.000000      1\n",
            "63.000000      1\n",
            "33.000000      1\n",
            "25.000000      1\n",
            "570.000000     1\n",
            "34.000000      2\n",
            "46.000000      2\n",
            "51.000000      2\n",
            "16.000000      2\n",
            "15.000000      2\n",
            "38.000000      2\n",
            "41.000000      2\n",
            "52.000000      2\n",
            "30.000000      2\n",
            "71.000000      2\n",
            "64.000000      2\n",
            "21.000000      2\n",
            "22.000000      3\n",
            "54.000000      3\n",
            "66.000000      3\n",
            "73.000000      3\n",
            "74.000000      3\n",
            "62.000000      3\n",
            "18.000000      3\n",
            "35.000000      3\n",
            "72.000000      3\n",
            "47.000000      4\n",
            "40.000000      4\n",
            "50.000000      4\n",
            "48.000000      4\n",
            "19.000000      4\n",
            "24.000000      4\n",
            "29.000000      4\n",
            "69.000000      4\n",
            "44.000000      4\n",
            "59.000000      4\n",
            "45.000000      4\n",
            "65.000000      4\n",
            "20.000000      4\n",
            "58.000000      4\n",
            "56.000000      4\n",
            "57.000000      5\n",
            "70.000000      5\n",
            "49.000000      5\n",
            "37.000000      6\n",
            "67.000000      6\n",
            "39.000000      6\n",
            "53.000000      6\n",
            "60.000000      6\n",
            "28.000000      6\n",
            "43.000000      6\n",
            "26.000000      6\n",
            "31.000000      6\n",
            "23.000000      6\n",
            "61.000000      7\n",
            "55.000000      7\n",
            "32.000000      7\n",
            "42.000000      7\n",
            "36.000000      8\n",
            "47.475771     54\n",
            "Name: Age, dtype: int64\n",
            "-----------------------------------------------\n",
            "\n",
            "___\n",
            "The count values for Na_to_K are:\n",
            "12.879    1\n",
            "8.968     1\n",
            "18.348    1\n",
            "19.221    1\n",
            "18.703    1\n",
            "         ..\n",
            "11.198    6\n",
            "12.854    6\n",
            "12.307    6\n",
            "11.009    6\n",
            "12.766    7\n",
            "Name: Na_to_K, Length: 183, dtype: int64\n",
            "-----------------------------------------------\n",
            "\n",
            "___\n"
          ]
        }
      ],
      "source": [
        "#creating the same loop to see values counts in numeric columns. \n",
        "all_columns = df.columns\n",
        "data_types = df.dtypes\n",
        "\n",
        "for i in all_columns:\n",
        "  if df[i].dtypes == 'float64':\n",
        "    print(f'The count values for {i} are:')\n",
        "    print(df[i].value_counts(ascending=True))\n",
        "    print('-----------------------------------------------')\n",
        "    print('\\n___')"
      ]
    },
    {
      "cell_type": "markdown",
      "source": [
        "##### To better look for any inconsistencies going to get the summary stats of the numerical columns as well. "
      ],
      "metadata": {
        "id": "8vmYFyGf9Xgo"
      }
    },
    {
      "cell_type": "code",
      "execution_count": 267,
      "metadata": {
        "colab": {
          "base_uri": "https://localhost:8080/"
        },
        "id": "-qkNw6eJjOt3",
        "outputId": "fbdd2082-57b9-4825-c17b-2c9ecf062cc9"
      },
      "outputs": [
        {
          "output_type": "stream",
          "name": "stdout",
          "text": [
            "The Age:\n",
            "Mean = 47.47577092511013, Max = 570.0, Min = 15.0, Mode =0    47.475771\n",
            "dtype: float64\n",
            "--------------------------------------------------------\n",
            "\n",
            "\n",
            "The Na_to_K:\n",
            "Mean = 14.862768683274021, Max = 38.247, Min = 6.269, Mode =0    12.766\n",
            "dtype: float64\n",
            "--------------------------------------------------------\n",
            "\n",
            "\n"
          ]
        }
      ],
      "source": [
        "#Creating loop to get the summary stats of Numerical columns. \n",
        "for i in all_columns:\n",
        "  if df[i].dtypes == float:\n",
        "    m = df[i].mean()\n",
        "    max = df[i].max()\n",
        "    min = df[i].min()\n",
        "    mode = df[i].mode()\n",
        "    print(f\"The {df[i].name}:\")\n",
        "    #print(f\"The {df[i].name}:\")\n",
        "    print(f'Mean = {m}, Max = {max}, Min = {min}, Mode ={mode}')\n",
        "    print('--------------' * 4)\n",
        "    print('\\n')"
      ]
    },
    {
      "cell_type": "markdown",
      "metadata": {
        "id": "2aw5GfsSjOt4"
      },
      "source": [
        "##### In the Age column we have one value that is at 570, we will be replacing that. \n"
      ]
    },
    {
      "cell_type": "code",
      "execution_count": 268,
      "metadata": {
        "id": "tSZhtgtGjOt4"
      },
      "outputs": [],
      "source": [
        "#Using .replace() to convert 570 to 57\n",
        "df['Age'] = df['Age'].replace(570.0, 57)\n",
        "#source = https://www.geeksforgeeks.org/how-to-replace-values-in-a-list-in-python/"
      ]
    },
    {
      "cell_type": "markdown",
      "source": [
        "##### Confirming that the problem was fixed"
      ],
      "metadata": {
        "id": "8R9HgF-k9x1i"
      }
    },
    {
      "cell_type": "code",
      "execution_count": 269,
      "metadata": {
        "colab": {
          "base_uri": "https://localhost:8080/"
        },
        "id": "pOEy5FcZjOt4",
        "outputId": "6ebbeba9-159e-4fa9-9e67-d299cf02f689"
      },
      "outputs": [
        {
          "output_type": "stream",
          "name": "stdout",
          "text": [
            "The count values for Age are:\n",
            "68.000000     1\n",
            "33.000000     1\n",
            "63.000000     1\n",
            "25.000000     1\n",
            "46.000000     2\n",
            "51.000000     2\n",
            "16.000000     2\n",
            "15.000000     2\n",
            "38.000000     2\n",
            "41.000000     2\n",
            "21.000000     2\n",
            "52.000000     2\n",
            "30.000000     2\n",
            "71.000000     2\n",
            "64.000000     2\n",
            "34.000000     2\n",
            "22.000000     3\n",
            "54.000000     3\n",
            "66.000000     3\n",
            "73.000000     3\n",
            "74.000000     3\n",
            "72.000000     3\n",
            "18.000000     3\n",
            "35.000000     3\n",
            "62.000000     3\n",
            "47.000000     4\n",
            "29.000000     4\n",
            "69.000000     4\n",
            "24.000000     4\n",
            "45.000000     4\n",
            "65.000000     4\n",
            "59.000000     4\n",
            "58.000000     4\n",
            "44.000000     4\n",
            "20.000000     4\n",
            "19.000000     4\n",
            "48.000000     4\n",
            "50.000000     4\n",
            "40.000000     4\n",
            "56.000000     4\n",
            "70.000000     5\n",
            "49.000000     5\n",
            "53.000000     6\n",
            "57.000000     6\n",
            "60.000000     6\n",
            "26.000000     6\n",
            "31.000000     6\n",
            "23.000000     6\n",
            "39.000000     6\n",
            "67.000000     6\n",
            "37.000000     6\n",
            "28.000000     6\n",
            "43.000000     6\n",
            "61.000000     7\n",
            "55.000000     7\n",
            "42.000000     7\n",
            "32.000000     7\n",
            "36.000000     8\n",
            "47.475771    54\n",
            "Name: Age, dtype: int64\n",
            "-----------------------------------------------\n",
            "\n",
            "___\n",
            "The count values for Na_to_K are:\n",
            "12.879    1\n",
            "8.968     1\n",
            "18.348    1\n",
            "19.221    1\n",
            "18.703    1\n",
            "         ..\n",
            "11.198    6\n",
            "12.854    6\n",
            "12.307    6\n",
            "11.009    6\n",
            "12.766    7\n",
            "Name: Na_to_K, Length: 183, dtype: int64\n",
            "-----------------------------------------------\n",
            "\n",
            "___\n"
          ]
        }
      ],
      "source": [
        "#looping through the numeric columns\n",
        "all_columns = df.columns\n",
        "data_types = df.dtypes\n",
        "\n",
        "for i in all_columns:\n",
        "  if df[i].dtypes == 'float64':\n",
        "    print(f'The count values for {i} are:')\n",
        "    print(df[i].value_counts(ascending=True))\n",
        "    print('-----------------------------------------------')\n",
        "    print('\\n___')"
      ]
    },
    {
      "cell_type": "code",
      "execution_count": 270,
      "metadata": {
        "colab": {
          "base_uri": "https://localhost:8080/"
        },
        "id": "0iyvGDF1jOt4",
        "outputId": "8848b776-6914-44a3-802c-04c048933c22"
      },
      "outputs": [
        {
          "output_type": "stream",
          "name": "stdout",
          "text": [
            "The Age:\n",
            "Mean = 45.65014814930942, Max = 74.0, Min = 15.0, Mode = 0    47.475771\n",
            "dtype: float64\n",
            "--------------------------------------------------------\n",
            "\n",
            "\n",
            "The Na_to_K:\n",
            "Mean = 14.862768683274021, Max = 38.247, Min = 6.269, Mode = 0    12.766\n",
            "dtype: float64\n",
            "--------------------------------------------------------\n",
            "\n",
            "\n"
          ]
        }
      ],
      "source": [
        "#Looping through the summary stats\n",
        "for i in all_columns:\n",
        "  if df[i].dtypes == float:\n",
        "    m = df[i].mean()\n",
        "    max = df[i].max()\n",
        "    min = df[i].min()\n",
        "    mode = df[i].mode()\n",
        "    print(f\"The {df[i].name}:\")\n",
        "    #print(f\"The {df[i].name}:\")\n",
        "    print(f'Mean = {m}, Max = {max}, Min = {min}, Mode = {mode}')\n",
        "    print('--------------' * 4)\n",
        "    print('\\n')"
      ]
    },
    {
      "cell_type": "markdown",
      "metadata": {
        "id": "96zqDHM9jOt4"
      },
      "source": [
        "## Data Exploration "
      ]
    },
    {
      "cell_type": "code",
      "execution_count": 271,
      "metadata": {
        "id": "0v9B76dPjOt4"
      },
      "outputs": [],
      "source": [
        "#importing matplotlib and seaborn\n",
        "import matplotlib.pyplot as plt\n",
        "import seaborn as sns"
      ]
    },
    {
      "cell_type": "markdown",
      "metadata": {
        "id": "E6wb2_EZjOt4"
      },
      "source": [
        "### Getting the Correlation between the columns. "
      ]
    },
    {
      "cell_type": "code",
      "execution_count": 272,
      "metadata": {
        "colab": {
          "base_uri": "https://localhost:8080/",
          "height": 112
        },
        "id": "dX1tYVB3jOt4",
        "outputId": "3fb2bea6-46d3-4bcb-b513-1d1f61660b9e"
      },
      "outputs": [
        {
          "output_type": "execute_result",
          "data": {
            "text/plain": [
              "              Age   Na_to_K\n",
              "Age      1.000000 -0.037316\n",
              "Na_to_K -0.037316  1.000000"
            ],
            "text/html": [
              "\n",
              "  <div id=\"df-4362665d-ad9c-480e-ba51-18f5edc1d0a2\">\n",
              "    <div class=\"colab-df-container\">\n",
              "      <div>\n",
              "<style scoped>\n",
              "    .dataframe tbody tr th:only-of-type {\n",
              "        vertical-align: middle;\n",
              "    }\n",
              "\n",
              "    .dataframe tbody tr th {\n",
              "        vertical-align: top;\n",
              "    }\n",
              "\n",
              "    .dataframe thead th {\n",
              "        text-align: right;\n",
              "    }\n",
              "</style>\n",
              "<table border=\"1\" class=\"dataframe\">\n",
              "  <thead>\n",
              "    <tr style=\"text-align: right;\">\n",
              "      <th></th>\n",
              "      <th>Age</th>\n",
              "      <th>Na_to_K</th>\n",
              "    </tr>\n",
              "  </thead>\n",
              "  <tbody>\n",
              "    <tr>\n",
              "      <th>Age</th>\n",
              "      <td>1.000000</td>\n",
              "      <td>-0.037316</td>\n",
              "    </tr>\n",
              "    <tr>\n",
              "      <th>Na_to_K</th>\n",
              "      <td>-0.037316</td>\n",
              "      <td>1.000000</td>\n",
              "    </tr>\n",
              "  </tbody>\n",
              "</table>\n",
              "</div>\n",
              "      <button class=\"colab-df-convert\" onclick=\"convertToInteractive('df-4362665d-ad9c-480e-ba51-18f5edc1d0a2')\"\n",
              "              title=\"Convert this dataframe to an interactive table.\"\n",
              "              style=\"display:none;\">\n",
              "        \n",
              "  <svg xmlns=\"http://www.w3.org/2000/svg\" height=\"24px\"viewBox=\"0 0 24 24\"\n",
              "       width=\"24px\">\n",
              "    <path d=\"M0 0h24v24H0V0z\" fill=\"none\"/>\n",
              "    <path d=\"M18.56 5.44l.94 2.06.94-2.06 2.06-.94-2.06-.94-.94-2.06-.94 2.06-2.06.94zm-11 1L8.5 8.5l.94-2.06 2.06-.94-2.06-.94L8.5 2.5l-.94 2.06-2.06.94zm10 10l.94 2.06.94-2.06 2.06-.94-2.06-.94-.94-2.06-.94 2.06-2.06.94z\"/><path d=\"M17.41 7.96l-1.37-1.37c-.4-.4-.92-.59-1.43-.59-.52 0-1.04.2-1.43.59L10.3 9.45l-7.72 7.72c-.78.78-.78 2.05 0 2.83L4 21.41c.39.39.9.59 1.41.59.51 0 1.02-.2 1.41-.59l7.78-7.78 2.81-2.81c.8-.78.8-2.07 0-2.86zM5.41 20L4 18.59l7.72-7.72 1.47 1.35L5.41 20z\"/>\n",
              "  </svg>\n",
              "      </button>\n",
              "      \n",
              "  <style>\n",
              "    .colab-df-container {\n",
              "      display:flex;\n",
              "      flex-wrap:wrap;\n",
              "      gap: 12px;\n",
              "    }\n",
              "\n",
              "    .colab-df-convert {\n",
              "      background-color: #E8F0FE;\n",
              "      border: none;\n",
              "      border-radius: 50%;\n",
              "      cursor: pointer;\n",
              "      display: none;\n",
              "      fill: #1967D2;\n",
              "      height: 32px;\n",
              "      padding: 0 0 0 0;\n",
              "      width: 32px;\n",
              "    }\n",
              "\n",
              "    .colab-df-convert:hover {\n",
              "      background-color: #E2EBFA;\n",
              "      box-shadow: 0px 1px 2px rgba(60, 64, 67, 0.3), 0px 1px 3px 1px rgba(60, 64, 67, 0.15);\n",
              "      fill: #174EA6;\n",
              "    }\n",
              "\n",
              "    [theme=dark] .colab-df-convert {\n",
              "      background-color: #3B4455;\n",
              "      fill: #D2E3FC;\n",
              "    }\n",
              "\n",
              "    [theme=dark] .colab-df-convert:hover {\n",
              "      background-color: #434B5C;\n",
              "      box-shadow: 0px 1px 3px 1px rgba(0, 0, 0, 0.15);\n",
              "      filter: drop-shadow(0px 1px 2px rgba(0, 0, 0, 0.3));\n",
              "      fill: #FFFFFF;\n",
              "    }\n",
              "  </style>\n",
              "\n",
              "      <script>\n",
              "        const buttonEl =\n",
              "          document.querySelector('#df-4362665d-ad9c-480e-ba51-18f5edc1d0a2 button.colab-df-convert');\n",
              "        buttonEl.style.display =\n",
              "          google.colab.kernel.accessAllowed ? 'block' : 'none';\n",
              "\n",
              "        async function convertToInteractive(key) {\n",
              "          const element = document.querySelector('#df-4362665d-ad9c-480e-ba51-18f5edc1d0a2');\n",
              "          const dataTable =\n",
              "            await google.colab.kernel.invokeFunction('convertToInteractive',\n",
              "                                                     [key], {});\n",
              "          if (!dataTable) return;\n",
              "\n",
              "          const docLinkHtml = 'Like what you see? Visit the ' +\n",
              "            '<a target=\"_blank\" href=https://colab.research.google.com/notebooks/data_table.ipynb>data table notebook</a>'\n",
              "            + ' to learn more about interactive tables.';\n",
              "          element.innerHTML = '';\n",
              "          dataTable['output_type'] = 'display_data';\n",
              "          await google.colab.output.renderOutput(dataTable, element);\n",
              "          const docLink = document.createElement('div');\n",
              "          docLink.innerHTML = docLinkHtml;\n",
              "          element.appendChild(docLink);\n",
              "        }\n",
              "      </script>\n",
              "    </div>\n",
              "  </div>\n",
              "  "
            ]
          },
          "metadata": {},
          "execution_count": 272
        }
      ],
      "source": [
        "#defining correlation\n",
        "correlation = df.corr()\n",
        "#printing correlation \n",
        "correlation"
      ]
    },
    {
      "cell_type": "code",
      "execution_count": 273,
      "metadata": {
        "colab": {
          "base_uri": "https://localhost:8080/",
          "height": 273
        },
        "id": "nMdGSW9WjOt5",
        "outputId": "4a04206d-3296-45ef-eb45-802b669b670a"
      },
      "outputs": [
        {
          "output_type": "display_data",
          "data": {
            "text/plain": [
              "<Figure size 360x288 with 2 Axes>"
            ],
            "image/png": "[encoded data removed]"
          },
          "metadata": {}
        }
      ],
      "source": [
        "#graphing the correlation. \n",
        "sns.set(rc = {'figure.figsize' : (5,4)});\n",
        "sns.heatmap(correlation, cmap = 'Blues', annot = True);"
      ]
    },
    {
      "cell_type": "markdown",
      "metadata": {
        "id": "oBwnR5VBjOt5"
      },
      "source": [
        "#### Observation: \n",
        "- Age and Sodium to Potassium ratio are negatively related. However, we must remember that correlation does not mean causation. \n",
        "- Also, Sodium to Potassium ratio does have much to do with the Age of a person. Its about their physical condition."
      ]
    },
    {
      "cell_type": "markdown",
      "source": [
        "### Exploring the numeric columns with histograms and boxplots"
      ],
      "metadata": {
        "id": "1ozEjVDo_cWj"
      }
    },
    {
      "cell_type": "markdown",
      "source": [
        "#### Age"
      ],
      "metadata": {
        "id": "Ke9cdmIc_ly_"
      }
    },
    {
      "cell_type": "code",
      "execution_count": 274,
      "metadata": {
        "colab": {
          "base_uri": "https://localhost:8080/",
          "height": 415
        },
        "id": "7B0mSrlJjOt5",
        "outputId": "452d4600-e7b1-45e1-fbad-27296aa0b2c8"
      },
      "outputs": [
        {
          "output_type": "display_data",
          "data": {
            "text/plain": [
              "<Figure size 1440x648 with 2 Axes>"
            ],
            "image/png": "[encoded data removed]"
          },
          "metadata": {}
        }
      ],
      "source": [
        "#Setting the figure size:\n",
        "plt.figure(figsize = (20,9))\n",
        "\n",
        "#Histogram\n",
        "plt.subplot(1, 2, 1);\n",
        "plt.hist(df['Age'].values);\n",
        "plt.title(\"Age Histogram\", fontsize=23)\n",
        "\n",
        "#Boxplot\n",
        "plt.subplot(1, 2, 2);\n",
        "plt.boxplot(df['Age'].values);\n",
        "plt.title('Age Boxplot', fontsize=23);"
      ]
    },
    {
      "cell_type": "markdown",
      "metadata": {
        "id": "HPEF22d3jOt5"
      },
      "source": [
        "##### Observation:\n",
        "- The histogram is very normally distributed. \n",
        "- There is one hike in the middle. \n",
        "- The boxplot does not have any outliers. \n",
        "- The boxplot also shows that while the IDR is between 37 and 55, the min goes down to 10 and the max all the upto 74. "
      ]
    },
    {
      "cell_type": "markdown",
      "source": [
        "#### Na_to_K"
      ],
      "metadata": {
        "id": "2IHPQN8H_yeM"
      }
    },
    {
      "cell_type": "code",
      "execution_count": 275,
      "metadata": {
        "colab": {
          "base_uri": "https://localhost:8080/",
          "height": 437
        },
        "id": "RMh_-ajOjOt5",
        "outputId": "5d17770b-c042-4baf-ee00-14367f39a07f"
      },
      "outputs": [
        {
          "output_type": "display_data",
          "data": {
            "text/plain": [
              "<Figure size 1080x504 with 2 Axes>"
            ],
            "image/png": "[encoded data removed]"
          },
          "metadata": {}
        }
      ],
      "source": [
        "#Setting the figure size:\n",
        "plt.figure(figsize = (15,7))\n",
        "\n",
        "#Histogram\n",
        "plt.subplot(1, 2, 1);\n",
        "plt.hist(df['Na_to_K'].values);\n",
        "plt.title('Na_to_K Histogram', fontsize=23);\n",
        "\n",
        "#Boxplot\n",
        "plt.subplot(1, 2, 2);\n",
        "plt.boxplot(df['Na_to_K'].values);\n",
        "plt.title('Na_to_K Boxplot',fontsize=23);"
      ]
    },
    {
      "cell_type": "markdown",
      "metadata": {
        "id": "t7oFM2mkjOt5"
      },
      "source": [
        "##### Observations: \n",
        "- The histogram is right skewed. \n",
        "- The skewed histogram means that majority of the Sodium to Postassium ratios are between 5 and 20. This is better than having most of them beyond 20 (which we still have many of). \n",
        "- The boxplot shows us that there are many outliers which is concerning. \n"
      ]
    },
    {
      "cell_type": "markdown",
      "source": [
        "### Exploring two variables using barplots. "
      ],
      "metadata": {
        "id": "L4EDmvzfAB94"
      }
    },
    {
      "cell_type": "markdown",
      "source": [
        "#### Age vs. Gender"
      ],
      "metadata": {
        "id": "pwi_LSV6AHlQ"
      }
    },
    {
      "cell_type": "code",
      "execution_count": 276,
      "metadata": {
        "colab": {
          "base_uri": "https://localhost:8080/",
          "height": 418
        },
        "id": "1-4uxhb7jOt5",
        "outputId": "c037baad-195e-4062-ce03-038ace48b3ad"
      },
      "outputs": [
        {
          "output_type": "display_data",
          "data": {
            "text/plain": [
              "<Figure size 864x432 with 2 Axes>"
            ],
            "image/png": "[encoded data removed]"
          },
          "metadata": {}
        }
      ],
      "source": [
        "#Setting the figure size:\n",
        "plt.figure(figsize = (12,6))\n",
        "\n",
        "#Histogram\n",
        "plt.subplot(1, 2, 1);\n",
        "sns.barplot(x = 'Gender', y = 'Age', data = df);\n",
        "plt.title('Gender Vs. Age Boxplot', fontsize=23);\n",
        "\n",
        "#Boxplot\n",
        "plt.subplot(1, 2, 2);\n",
        "sns.barplot(x = 'Gender', y = 'Na_to_K', data = df);\n",
        "plt.title('Gender Vs. Na_to_K Boxplot',fontsize=23);\n",
        "\n"
      ]
    },
    {
      "cell_type": "markdown",
      "metadata": {
        "id": "ScF8aJZvjOt5"
      },
      "source": [
        "##### Observations: \n",
        "- This dataset,on average, have older men than women. \n",
        "- Women, on average, have higher Sodium to Potassium ratios.   "
      ]
    },
    {
      "cell_type": "markdown",
      "source": [
        "#### Cholesterol vs. Age"
      ],
      "metadata": {
        "id": "Q0e94kjAAR-5"
      }
    },
    {
      "cell_type": "code",
      "execution_count": 277,
      "metadata": {
        "colab": {
          "base_uri": "https://localhost:8080/",
          "height": 418
        },
        "id": "F2_zGC1tjOt5",
        "outputId": "57913a50-6c2b-42e0-a4fe-cd2557c14cab"
      },
      "outputs": [
        {
          "output_type": "display_data",
          "data": {
            "text/plain": [
              "<Figure size 1008x432 with 2 Axes>"
            ],
            "image/png": "[encoded data removed]"
          },
          "metadata": {}
        }
      ],
      "source": [
        "#Setting the figure size:\n",
        "plt.figure(figsize = (14,6))\n",
        "\n",
        "#Histogram\n",
        "plt.subplot(1, 2, 1);\n",
        "sns.barplot(x = 'Cholesterol', y = 'Age', hue = 'Gender', data = df);\n",
        "plt.title('Cholesterol Vs. Age ', fontsize= 23);\n",
        "\n",
        "#Boxplot\n",
        "plt.subplot(1, 2, 2);\n",
        "sns.barplot(x = 'Cholesterol', y = 'Na_to_K',hue = 'Gender', data = df);\n",
        "plt.title('Cholesterol Vs. Na_to_K ', fontsize= 23);"
      ]
    },
    {
      "cell_type": "markdown",
      "metadata": {
        "id": "da4pZqdOjOt6"
      },
      "source": [
        "##### Observations:\n",
        "- Men, on average, have higher cholesterol levels than women in both the High and Normal categories of cholestral. \n",
        "- Women, on average, have higher Sodium to Potassium ratio than men in both the High and Normal categories of cholesteral.  "
      ]
    },
    {
      "cell_type": "markdown",
      "source": [
        "#### Drug vs. Age"
      ],
      "metadata": {
        "id": "d1N9qrl-AlFN"
      }
    },
    {
      "cell_type": "code",
      "execution_count": 278,
      "metadata": {
        "colab": {
          "base_uri": "https://localhost:8080/",
          "height": 418
        },
        "id": "NoP-30CVjOt6",
        "outputId": "314ae013-80d1-45ec-dfb6-bee723ee9fc6"
      },
      "outputs": [
        {
          "output_type": "display_data",
          "data": {
            "text/plain": [
              "<Figure size 1008x432 with 2 Axes>"
            ],
            "image/png": "[encoded data removed]"
          },
          "metadata": {}
        }
      ],
      "source": [
        "#Setting the figure size:\n",
        "plt.figure(figsize = (14,6))\n",
        "\n",
        "#Histogram\n",
        "plt.subplot(1, 2, 1);\n",
        "sns.barplot(x = 'Drug', y = 'Age', hue = 'Gender', data = df);\n",
        "plt.title('Drug Vs. Age Boxplot', fontsize=23);\n",
        "\n",
        "#Boxplot\n",
        "plt.subplot(1, 2, 2);\n",
        "sns.barplot(x = 'Drug', y = 'Na_to_K', hue = 'Gender', data = df);\n",
        "plt.title('Drug Vs. Na_to_K Boxplot' ,fontsize=23);"
      ]
    },
    {
      "cell_type": "markdown",
      "metadata": {
        "id": "s3xXfcfCjOt6"
      },
      "source": [
        "##### Obervations:\n",
        "- drugQ and drugZ were recommended more to older men then women. \n",
        "- Women who were recommended drugQ and drugZ also had higher Sodium to Potassium ratio than men. "
      ]
    },
    {
      "cell_type": "markdown",
      "source": [
        "## Model Preparation, Processing & Transformation"
      ],
      "metadata": {
        "id": "lpQYZtZpA0Vh"
      }
    },
    {
      "cell_type": "markdown",
      "metadata": {
        "id": "pT2l7qFljOt6"
      },
      "source": [
        "#### Creating a Copy of the dataset. "
      ]
    },
    {
      "cell_type": "code",
      "execution_count": 279,
      "metadata": {
        "colab": {
          "base_uri": "https://localhost:8080/",
          "height": 206
        },
        "id": "IKL8xhiDjOt6",
        "outputId": "f6171a06-66f1-41e2-dee9-06e980d5aa45"
      },
      "outputs": [
        {
          "output_type": "execute_result",
          "data": {
            "text/plain": [
              "         Age Gender      BP Cholesterol  Na_to_K   Drug\n",
              "0  59.000000      M    High        High   13.935  drugQ\n",
              "1  40.000000      F  Normal        High   10.103  drugZ\n",
              "2  47.475771      M  Normal        High    9.084  drugZ\n",
              "3  62.000000      M  Normal        High   16.594  drugZ\n",
              "4  55.000000      F    High      Normal   10.977  drugQ"
            ],
            "text/html": [
              "\n",
              "  <div id=\"df-1d9f02f5-0c69-4556-83e7-e8ba874faa97\">\n",
              "    <div class=\"colab-df-container\">\n",
              "      <div>\n",
              "<style scoped>\n",
              "    .dataframe tbody tr th:only-of-type {\n",
              "        vertical-align: middle;\n",
              "    }\n",
              "\n",
              "    .dataframe tbody tr th {\n",
              "        vertical-align: top;\n",
              "    }\n",
              "\n",
              "    .dataframe thead th {\n",
              "        text-align: right;\n",
              "    }\n",
              "</style>\n",
              "<table border=\"1\" class=\"dataframe\">\n",
              "  <thead>\n",
              "    <tr style=\"text-align: right;\">\n",
              "      <th></th>\n",
              "      <th>Age</th>\n",
              "      <th>Gender</th>\n",
              "      <th>BP</th>\n",
              "      <th>Cholesterol</th>\n",
              "      <th>Na_to_K</th>\n",
              "      <th>Drug</th>\n",
              "    </tr>\n",
              "  </thead>\n",
              "  <tbody>\n",
              "    <tr>\n",
              "      <th>0</th>\n",
              "      <td>59.000000</td>\n",
              "      <td>M</td>\n",
              "      <td>High</td>\n",
              "      <td>High</td>\n",
              "      <td>13.935</td>\n",
              "      <td>drugQ</td>\n",
              "    </tr>\n",
              "    <tr>\n",
              "      <th>1</th>\n",
              "      <td>40.000000</td>\n",
              "      <td>F</td>\n",
              "      <td>Normal</td>\n",
              "      <td>High</td>\n",
              "      <td>10.103</td>\n",
              "      <td>drugZ</td>\n",
              "    </tr>\n",
              "    <tr>\n",
              "      <th>2</th>\n",
              "      <td>47.475771</td>\n",
              "      <td>M</td>\n",
              "      <td>Normal</td>\n",
              "      <td>High</td>\n",
              "      <td>9.084</td>\n",
              "      <td>drugZ</td>\n",
              "    </tr>\n",
              "    <tr>\n",
              "      <th>3</th>\n",
              "      <td>62.000000</td>\n",
              "      <td>M</td>\n",
              "      <td>Normal</td>\n",
              "      <td>High</td>\n",
              "      <td>16.594</td>\n",
              "      <td>drugZ</td>\n",
              "    </tr>\n",
              "    <tr>\n",
              "      <th>4</th>\n",
              "      <td>55.000000</td>\n",
              "      <td>F</td>\n",
              "      <td>High</td>\n",
              "      <td>Normal</td>\n",
              "      <td>10.977</td>\n",
              "      <td>drugQ</td>\n",
              "    </tr>\n",
              "  </tbody>\n",
              "</table>\n",
              "</div>\n",
              "      <button class=\"colab-df-convert\" onclick=\"convertToInteractive('df-1d9f02f5-0c69-4556-83e7-e8ba874faa97')\"\n",
              "              title=\"Convert this dataframe to an interactive table.\"\n",
              "              style=\"display:none;\">\n",
              "        \n",
              "  <svg xmlns=\"http://www.w3.org/2000/svg\" height=\"24px\"viewBox=\"0 0 24 24\"\n",
              "       width=\"24px\">\n",
              "    <path d=\"M0 0h24v24H0V0z\" fill=\"none\"/>\n",
              "    <path d=\"M18.56 5.44l.94 2.06.94-2.06 2.06-.94-2.06-.94-.94-2.06-.94 2.06-2.06.94zm-11 1L8.5 8.5l.94-2.06 2.06-.94-2.06-.94L8.5 2.5l-.94 2.06-2.06.94zm10 10l.94 2.06.94-2.06 2.06-.94-2.06-.94-.94-2.06-.94 2.06-2.06.94z\"/><path d=\"M17.41 7.96l-1.37-1.37c-.4-.4-.92-.59-1.43-.59-.52 0-1.04.2-1.43.59L10.3 9.45l-7.72 7.72c-.78.78-.78 2.05 0 2.83L4 21.41c.39.39.9.59 1.41.59.51 0 1.02-.2 1.41-.59l7.78-7.78 2.81-2.81c.8-.78.8-2.07 0-2.86zM5.41 20L4 18.59l7.72-7.72 1.47 1.35L5.41 20z\"/>\n",
              "  </svg>\n",
              "      </button>\n",
              "      \n",
              "  <style>\n",
              "    .colab-df-container {\n",
              "      display:flex;\n",
              "      flex-wrap:wrap;\n",
              "      gap: 12px;\n",
              "    }\n",
              "\n",
              "    .colab-df-convert {\n",
              "      background-color: #E8F0FE;\n",
              "      border: none;\n",
              "      border-radius: 50%;\n",
              "      cursor: pointer;\n",
              "      display: none;\n",
              "      fill: #1967D2;\n",
              "      height: 32px;\n",
              "      padding: 0 0 0 0;\n",
              "      width: 32px;\n",
              "    }\n",
              "\n",
              "    .colab-df-convert:hover {\n",
              "      background-color: #E2EBFA;\n",
              "      box-shadow: 0px 1px 2px rgba(60, 64, 67, 0.3), 0px 1px 3px 1px rgba(60, 64, 67, 0.15);\n",
              "      fill: #174EA6;\n",
              "    }\n",
              "\n",
              "    [theme=dark] .colab-df-convert {\n",
              "      background-color: #3B4455;\n",
              "      fill: #D2E3FC;\n",
              "    }\n",
              "\n",
              "    [theme=dark] .colab-df-convert:hover {\n",
              "      background-color: #434B5C;\n",
              "      box-shadow: 0px 1px 3px 1px rgba(0, 0, 0, 0.15);\n",
              "      filter: drop-shadow(0px 1px 2px rgba(0, 0, 0, 0.3));\n",
              "      fill: #FFFFFF;\n",
              "    }\n",
              "  </style>\n",
              "\n",
              "      <script>\n",
              "        const buttonEl =\n",
              "          document.querySelector('#df-1d9f02f5-0c69-4556-83e7-e8ba874faa97 button.colab-df-convert');\n",
              "        buttonEl.style.display =\n",
              "          google.colab.kernel.accessAllowed ? 'block' : 'none';\n",
              "\n",
              "        async function convertToInteractive(key) {\n",
              "          const element = document.querySelector('#df-1d9f02f5-0c69-4556-83e7-e8ba874faa97');\n",
              "          const dataTable =\n",
              "            await google.colab.kernel.invokeFunction('convertToInteractive',\n",
              "                                                     [key], {});\n",
              "          if (!dataTable) return;\n",
              "\n",
              "          const docLinkHtml = 'Like what you see? Visit the ' +\n",
              "            '<a target=\"_blank\" href=https://colab.research.google.com/notebooks/data_table.ipynb>data table notebook</a>'\n",
              "            + ' to learn more about interactive tables.';\n",
              "          element.innerHTML = '';\n",
              "          dataTable['output_type'] = 'display_data';\n",
              "          await google.colab.output.renderOutput(dataTable, element);\n",
              "          const docLink = document.createElement('div');\n",
              "          docLink.innerHTML = docLinkHtml;\n",
              "          element.appendChild(docLink);\n",
              "        }\n",
              "      </script>\n",
              "    </div>\n",
              "  </div>\n",
              "  "
            ]
          },
          "metadata": {},
          "execution_count": 279
        }
      ],
      "source": [
        "#copy of the dataset\n",
        "eda_df = df.copy()\n",
        "eda_df.head()"
      ]
    },
    {
      "cell_type": "code",
      "execution_count": 280,
      "metadata": {
        "colab": {
          "base_uri": "https://localhost:8080/"
        },
        "id": "hTAS0id6jOt6",
        "outputId": "c87bdf4c-5fca-4df4-9323-5519d32b83ec"
      },
      "outputs": [
        {
          "output_type": "stream",
          "name": "stdout",
          "text": [
            "<class 'pandas.core.frame.DataFrame'>\n",
            "Int64Index: 281 entries, 0 to 295\n",
            "Data columns (total 6 columns):\n",
            " #   Column       Non-Null Count  Dtype  \n",
            "---  ------       --------------  -----  \n",
            " 0   Age          281 non-null    float64\n",
            " 1   Gender       281 non-null    object \n",
            " 2   BP           281 non-null    object \n",
            " 3   Cholesterol  281 non-null    object \n",
            " 4   Na_to_K      281 non-null    float64\n",
            " 5   Drug         281 non-null    object \n",
            "dtypes: float64(2), object(4)\n",
            "memory usage: 23.5+ KB\n"
          ]
        }
      ],
      "source": [
        "#confirming that dtypes are still correct\n",
        "eda_df.info()"
      ]
    },
    {
      "cell_type": "markdown",
      "metadata": {
        "id": "J6F3W9S8jOt6"
      },
      "source": [
        "#### Checking for duplicates. "
      ]
    },
    {
      "cell_type": "code",
      "execution_count": 281,
      "metadata": {
        "colab": {
          "base_uri": "https://localhost:8080/"
        },
        "id": "wbGmqKVcjOt6",
        "outputId": "6703c014-b3a2-491a-d6af-6c9e9acc4056"
      },
      "outputs": [
        {
          "output_type": "execute_result",
          "data": {
            "text/plain": [
              "9"
            ]
          },
          "metadata": {},
          "execution_count": 281
        }
      ],
      "source": [
        "eda_df.duplicated().sum()"
      ]
    },
    {
      "cell_type": "markdown",
      "metadata": {
        "id": "3M0HCOX3jOt6"
      },
      "source": [
        "These duplicated values must have come up after imputing the null values with mean and most frequent. "
      ]
    },
    {
      "cell_type": "code",
      "execution_count": 282,
      "metadata": {
        "id": "ViWWI8g5jOt6"
      },
      "outputs": [],
      "source": [
        "#dropping these duplicates. \n",
        "eda_df.drop_duplicates(inplace=True)"
      ]
    },
    {
      "cell_type": "code",
      "execution_count": 283,
      "metadata": {
        "colab": {
          "base_uri": "https://localhost:8080/"
        },
        "id": "-E0D6JGSjOt6",
        "outputId": "9e74f4e6-7ce4-444a-ace5-7c79b7c1834b"
      },
      "outputs": [
        {
          "output_type": "execute_result",
          "data": {
            "text/plain": [
              "0"
            ]
          },
          "metadata": {},
          "execution_count": 283
        }
      ],
      "source": [
        "#confirming now further duplicates\n",
        "eda_df.duplicated().sum()"
      ]
    },
    {
      "cell_type": "markdown",
      "metadata": {
        "id": "cflecN_CjOt6"
      },
      "source": [
        "### Giving the Target numerical values for model building. "
      ]
    },
    {
      "cell_type": "code",
      "execution_count": 284,
      "metadata": {
        "id": "CSx-nkvqjOt6"
      },
      "outputs": [],
      "source": [
        "#using .replace() to convert\n",
        "eda_df['Drug'] = eda_df['Drug'].replace({'drugZ':0,\n",
        "                                 'drugQ': 1})"
      ]
    },
    {
      "cell_type": "markdown",
      "metadata": {
        "id": "X_xZBloOjOt7"
      },
      "source": [
        "### Splitting the data."
      ]
    },
    {
      "cell_type": "code",
      "execution_count": 285,
      "metadata": {
        "colab": {
          "base_uri": "https://localhost:8080/"
        },
        "id": "FwMS5YvXjOt7",
        "outputId": "5736baaf-6089-44d5-b94b-da6c4c2b92b8"
      },
      "outputs": [
        {
          "output_type": "execute_result",
          "data": {
            "text/plain": [
              "0    1\n",
              "1    0\n",
              "2    0\n",
              "3    0\n",
              "4    1\n",
              "Name: Drug, dtype: int64"
            ]
          },
          "metadata": {},
          "execution_count": 285
        }
      ],
      "source": [
        "X = eda_df.drop(columns= 'Drug')\n",
        "y = eda_df['Drug']\n",
        "\n",
        "y.head()"
      ]
    },
    {
      "cell_type": "code",
      "source": [
        "#train_test_split\n",
        "from sklearn.model_selection import train_test_split\n",
        "X_train, X_test, y_train, y_test = train_test_split(X,y, random_state=42)\n",
        "\n",
        "X_test.head()"
      ],
      "metadata": {
        "colab": {
          "base_uri": "https://localhost:8080/",
          "height": 206
        },
        "id": "yxyxDacwBn8G",
        "outputId": "46f85495-9674-4d9c-ea7e-2a86aa31e9da"
      },
      "execution_count": 286,
      "outputs": [
        {
          "output_type": "execute_result",
          "data": {
            "text/plain": [
              "           Age Gender    BP Cholesterol  Na_to_K\n",
              "30   47.475771      M  High        High   13.967\n",
              "122  36.000000      M   Low      Normal   11.424\n",
              "80   47.475771      M  High      Normal   28.294\n",
              "134  41.000000      M  High      Normal   15.156\n",
              "209  47.475771      M  High      Normal   11.343"
            ],
            "text/html": [
              "\n",
              "  <div id=\"df-fe6ff204-3172-4a9d-bb0a-457efba81fa5\">\n",
              "    <div class=\"colab-df-container\">\n",
              "      <div>\n",
              "<style scoped>\n",
              "    .dataframe tbody tr th:only-of-type {\n",
              "        vertical-align: middle;\n",
              "    }\n",
              "\n",
              "    .dataframe tbody tr th {\n",
              "        vertical-align: top;\n",
              "    }\n",
              "\n",
              "    .dataframe thead th {\n",
              "        text-align: right;\n",
              "    }\n",
              "</style>\n",
              "<table border=\"1\" class=\"dataframe\">\n",
              "  <thead>\n",
              "    <tr style=\"text-align: right;\">\n",
              "      <th></th>\n",
              "      <th>Age</th>\n",
              "      <th>Gender</th>\n",
              "      <th>BP</th>\n",
              "      <th>Cholesterol</th>\n",
              "      <th>Na_to_K</th>\n",
              "    </tr>\n",
              "  </thead>\n",
              "  <tbody>\n",
              "    <tr>\n",
              "      <th>30</th>\n",
              "      <td>47.475771</td>\n",
              "      <td>M</td>\n",
              "      <td>High</td>\n",
              "      <td>High</td>\n",
              "      <td>13.967</td>\n",
              "    </tr>\n",
              "    <tr>\n",
              "      <th>122</th>\n",
              "      <td>36.000000</td>\n",
              "      <td>M</td>\n",
              "      <td>Low</td>\n",
              "      <td>Normal</td>\n",
              "      <td>11.424</td>\n",
              "    </tr>\n",
              "    <tr>\n",
              "      <th>80</th>\n",
              "      <td>47.475771</td>\n",
              "      <td>M</td>\n",
              "      <td>High</td>\n",
              "      <td>Normal</td>\n",
              "      <td>28.294</td>\n",
              "    </tr>\n",
              "    <tr>\n",
              "      <th>134</th>\n",
              "      <td>41.000000</td>\n",
              "      <td>M</td>\n",
              "      <td>High</td>\n",
              "      <td>Normal</td>\n",
              "      <td>15.156</td>\n",
              "    </tr>\n",
              "    <tr>\n",
              "      <th>209</th>\n",
              "      <td>47.475771</td>\n",
              "      <td>M</td>\n",
              "      <td>High</td>\n",
              "      <td>Normal</td>\n",
              "      <td>11.343</td>\n",
              "    </tr>\n",
              "  </tbody>\n",
              "</table>\n",
              "</div>\n",
              "      <button class=\"colab-df-convert\" onclick=\"convertToInteractive('df-fe6ff204-3172-4a9d-bb0a-457efba81fa5')\"\n",
              "              title=\"Convert this dataframe to an interactive table.\"\n",
              "              style=\"display:none;\">\n",
              "        \n",
              "  <svg xmlns=\"http://www.w3.org/2000/svg\" height=\"24px\"viewBox=\"0 0 24 24\"\n",
              "       width=\"24px\">\n",
              "    <path d=\"M0 0h24v24H0V0z\" fill=\"none\"/>\n",
              "    <path d=\"M18.56 5.44l.94 2.06.94-2.06 2.06-.94-2.06-.94-.94-2.06-.94 2.06-2.06.94zm-11 1L8.5 8.5l.94-2.06 2.06-.94-2.06-.94L8.5 2.5l-.94 2.06-2.06.94zm10 10l.94 2.06.94-2.06 2.06-.94-2.06-.94-.94-2.06-.94 2.06-2.06.94z\"/><path d=\"M17.41 7.96l-1.37-1.37c-.4-.4-.92-.59-1.43-.59-.52 0-1.04.2-1.43.59L10.3 9.45l-7.72 7.72c-.78.78-.78 2.05 0 2.83L4 21.41c.39.39.9.59 1.41.59.51 0 1.02-.2 1.41-.59l7.78-7.78 2.81-2.81c.8-.78.8-2.07 0-2.86zM5.41 20L4 18.59l7.72-7.72 1.47 1.35L5.41 20z\"/>\n",
              "  </svg>\n",
              "      </button>\n",
              "      \n",
              "  <style>\n",
              "    .colab-df-container {\n",
              "      display:flex;\n",
              "      flex-wrap:wrap;\n",
              "      gap: 12px;\n",
              "    }\n",
              "\n",
              "    .colab-df-convert {\n",
              "      background-color: #E8F0FE;\n",
              "      border: none;\n",
              "      border-radius: 50%;\n",
              "      cursor: pointer;\n",
              "      display: none;\n",
              "      fill: #1967D2;\n",
              "      height: 32px;\n",
              "      padding: 0 0 0 0;\n",
              "      width: 32px;\n",
              "    }\n",
              "\n",
              "    .colab-df-convert:hover {\n",
              "      background-color: #E2EBFA;\n",
              "      box-shadow: 0px 1px 2px rgba(60, 64, 67, 0.3), 0px 1px 3px 1px rgba(60, 64, 67, 0.15);\n",
              "      fill: #174EA6;\n",
              "    }\n",
              "\n",
              "    [theme=dark] .colab-df-convert {\n",
              "      background-color: #3B4455;\n",
              "      fill: #D2E3FC;\n",
              "    }\n",
              "\n",
              "    [theme=dark] .colab-df-convert:hover {\n",
              "      background-color: #434B5C;\n",
              "      box-shadow: 0px 1px 3px 1px rgba(0, 0, 0, 0.15);\n",
              "      filter: drop-shadow(0px 1px 2px rgba(0, 0, 0, 0.3));\n",
              "      fill: #FFFFFF;\n",
              "    }\n",
              "  </style>\n",
              "\n",
              "      <script>\n",
              "        const buttonEl =\n",
              "          document.querySelector('#df-fe6ff204-3172-4a9d-bb0a-457efba81fa5 button.colab-df-convert');\n",
              "        buttonEl.style.display =\n",
              "          google.colab.kernel.accessAllowed ? 'block' : 'none';\n",
              "\n",
              "        async function convertToInteractive(key) {\n",
              "          const element = document.querySelector('#df-fe6ff204-3172-4a9d-bb0a-457efba81fa5');\n",
              "          const dataTable =\n",
              "            await google.colab.kernel.invokeFunction('convertToInteractive',\n",
              "                                                     [key], {});\n",
              "          if (!dataTable) return;\n",
              "\n",
              "          const docLinkHtml = 'Like what you see? Visit the ' +\n",
              "            '<a target=\"_blank\" href=https://colab.research.google.com/notebooks/data_table.ipynb>data table notebook</a>'\n",
              "            + ' to learn more about interactive tables.';\n",
              "          element.innerHTML = '';\n",
              "          dataTable['output_type'] = 'display_data';\n",
              "          await google.colab.output.renderOutput(dataTable, element);\n",
              "          const docLink = document.createElement('div');\n",
              "          docLink.innerHTML = docLinkHtml;\n",
              "          element.appendChild(docLink);\n",
              "        }\n",
              "      </script>\n",
              "    </div>\n",
              "  </div>\n",
              "  "
            ]
          },
          "metadata": {},
          "execution_count": 286
        }
      ]
    },
    {
      "cell_type": "markdown",
      "metadata": {
        "id": "C04FnSP7jOt9"
      },
      "source": [
        "### Column selectors"
      ]
    },
    {
      "cell_type": "code",
      "execution_count": 287,
      "metadata": {
        "id": "c15rpW-jjOt9"
      },
      "outputs": [],
      "source": [
        "#importing column selectors and transformers\n",
        "from sklearn.compose import make_column_selector, make_column_transformer\n",
        "#importing set_confi to get nice visuals of our models\n",
        "from sklearn import set_config\n",
        "set_config(display='diagram');\n",
        "\n",
        "#initializing categorical selector\n",
        "cat_selector = make_column_selector(dtype_include= 'object')\n",
        "\n",
        "#initializing numeric selector\n",
        "num_selector = make_column_selector(dtype_include= 'number')"
      ]
    },
    {
      "cell_type": "markdown",
      "metadata": {
        "id": "0RaUmn9DjOt9"
      },
      "source": [
        "#### We have to Standarize the numeric columns and one hot encode the categorical columns. \n",
        "#### Using One Hot Encoder because BP has three classes and converting them into 0,1,and 2 will give it more power as every other columns will be between or equal to 0 and 1. "
      ]
    },
    {
      "cell_type": "markdown",
      "source": [
        "### Standarizers and One Hot Encoding"
      ],
      "metadata": {
        "id": "wY4Iipv7CMxY"
      }
    },
    {
      "cell_type": "code",
      "execution_count": 288,
      "metadata": {
        "id": "hEfVVjVUjOt9"
      },
      "outputs": [],
      "source": [
        "#importing Standard Scaler and OneHotencoder\n",
        "from sklearn.preprocessing import StandardScaler, OneHotEncoder\n",
        "#importing make_pipeline\n",
        "from sklearn.pipeline import make_pipeline\n",
        "\n",
        "#Initializing StandardScaler\n",
        "scaler = StandardScaler()\n",
        "\n",
        "#Initializing OneHotEncoder\n",
        "ohe = OneHotEncoder(handle_unknown= 'ignore', sparse = False)"
      ]
    },
    {
      "cell_type": "markdown",
      "source": [
        "### Creating Tuples"
      ],
      "metadata": {
        "id": "AS0zWtw1C--7"
      }
    },
    {
      "cell_type": "code",
      "execution_count": 289,
      "metadata": {
        "id": "gCgAjHOZjOt9"
      },
      "outputs": [],
      "source": [
        "#Creating tuples for column transformation\n",
        "num_tuple = (scaler,num_selector)\n",
        "cat_tuple = (ohe, cat_selector)"
      ]
    },
    {
      "cell_type": "markdown",
      "source": [
        "### Creating a Preprocessor"
      ],
      "metadata": {
        "id": "q6IB_Js5DBnb"
      }
    },
    {
      "cell_type": "code",
      "execution_count": 290,
      "metadata": {
        "colab": {
          "base_uri": "https://localhost:8080/",
          "height": 118
        },
        "id": "aLLLqfg5jOt9",
        "outputId": "4d30d369-c2f1-49f9-9c70-0f94a52d6f28"
      },
      "outputs": [
        {
          "output_type": "execute_result",
          "data": {
            "text/plain": [
              "ColumnTransformer(remainder='passthrough',\n",
              "                  transformers=[('standardscaler', StandardScaler(),\n",
              "                                 <sklearn.compose._column_transformer.make_column_selector object at 0x7fc2d0de5b50>),\n",
              "                                ('onehotencoder',\n",
              "                                 OneHotEncoder(handle_unknown='ignore',\n",
              "                                               sparse=False),\n",
              "                                 <sklearn.compose._column_transformer.make_column_selector object at 0x7fc2d0de58e0>)])"
            ],
            "text/html": [
              "<style>#sk-14894bf4-3833-42fb-97dd-ce0679d8105a {color: black;background-color: white;}#sk-14894bf4-3833-42fb-97dd-ce0679d8105a pre{padding: 0;}#sk-14894bf4-3833-42fb-97dd-ce0679d8105a div.sk-toggleable {background-color: white;}#sk-14894bf4-3833-42fb-97dd-ce0679d8105a label.sk-toggleable__label {cursor: pointer;display: block;width: 100%;margin-bottom: 0;padding: 0.3em;box-sizing: border-box;text-align: center;}#sk-14894bf4-3833-42fb-97dd-ce0679d8105a label.sk-toggleable__label-arrow:before {content: \"▸\";float: left;margin-right: 0.25em;color: #696969;}#sk-14894bf4-3833-42fb-97dd-ce0679d8105a label.sk-toggleable__label-arrow:hover:before {color: black;}#sk-14894bf4-3833-42fb-97dd-ce0679d8105a div.sk-estimator:hover label.sk-toggleable__label-arrow:before {color: black;}#sk-14894bf4-3833-42fb-97dd-ce0679d8105a div.sk-toggleable__content {max-height: 0;max-width: 0;overflow: hidden;text-align: left;background-color: #f0f8ff;}#sk-14894bf4-3833-42fb-97dd-ce0679d8105a div.sk-toggleable__content pre {margin: 0.2em;color: black;border-radius: 0.25em;background-color: #f0f8ff;}#sk-14894bf4-3833-42fb-97dd-ce0679d8105a input.sk-toggleable__control:checked~div.sk-toggleable__content {max-height: 200px;max-width: 100%;overflow: auto;}#sk-14894bf4-3833-42fb-97dd-ce0679d8105a input.sk-toggleable__control:checked~label.sk-toggleable__label-arrow:before {content: \"▾\";}#sk-14894bf4-3833-42fb-97dd-ce0679d8105a div.sk-estimator input.sk-toggleable__control:checked~label.sk-toggleable__label {background-color: #d4ebff;}#sk-14894bf4-3833-42fb-97dd-ce0679d8105a div.sk-label input.sk-toggleable__control:checked~label.sk-toggleable__label {background-color: #d4ebff;}#sk-14894bf4-3833-42fb-97dd-ce0679d8105a input.sk-hidden--visually {border: 0;clip: rect(1px 1px 1px 1px);clip: rect(1px, 1px, 1px, 1px);height: 1px;margin: -1px;overflow: hidden;padding: 0;position: absolute;width: 1px;}#sk-14894bf4-3833-42fb-97dd-ce0679d8105a div.sk-estimator {font-family: monospace;background-color: #f0f8ff;border: 1px dotted black;border-radius: 0.25em;box-sizing: border-box;margin-bottom: 0.5em;}#sk-14894bf4-3833-42fb-97dd-ce0679d8105a div.sk-estimator:hover {background-color: #d4ebff;}#sk-14894bf4-3833-42fb-97dd-ce0679d8105a div.sk-parallel-item::after {content: \"\";width: 100%;border-bottom: 1px solid gray;flex-grow: 1;}#sk-14894bf4-3833-42fb-97dd-ce0679d8105a div.sk-label:hover label.sk-toggleable__label {background-color: #d4ebff;}#sk-14894bf4-3833-42fb-97dd-ce0679d8105a div.sk-serial::before {content: \"\";position: absolute;border-left: 1px solid gray;box-sizing: border-box;top: 2em;bottom: 0;left: 50%;}#sk-14894bf4-3833-42fb-97dd-ce0679d8105a div.sk-serial {display: flex;flex-direction: column;align-items: center;background-color: white;padding-right: 0.2em;padding-left: 0.2em;}#sk-14894bf4-3833-42fb-97dd-ce0679d8105a div.sk-item {z-index: 1;}#sk-14894bf4-3833-42fb-97dd-ce0679d8105a div.sk-parallel {display: flex;align-items: stretch;justify-content: center;background-color: white;}#sk-14894bf4-3833-42fb-97dd-ce0679d8105a div.sk-parallel::before {content: \"\";position: absolute;border-left: 1px solid gray;box-sizing: border-box;top: 2em;bottom: 0;left: 50%;}#sk-14894bf4-3833-42fb-97dd-ce0679d8105a div.sk-parallel-item {display: flex;flex-direction: column;position: relative;background-color: white;}#sk-14894bf4-3833-42fb-97dd-ce0679d8105a div.sk-parallel-item:first-child::after {align-self: flex-end;width: 50%;}#sk-14894bf4-3833-42fb-97dd-ce0679d8105a div.sk-parallel-item:last-child::after {align-self: flex-start;width: 50%;}#sk-14894bf4-3833-42fb-97dd-ce0679d8105a div.sk-parallel-item:only-child::after {width: 0;}#sk-14894bf4-3833-42fb-97dd-ce0679d8105a div.sk-dashed-wrapped {border: 1px dashed gray;margin: 0 0.4em 0.5em 0.4em;box-sizing: border-box;padding-bottom: 0.4em;background-color: white;position: relative;}#sk-14894bf4-3833-42fb-97dd-ce0679d8105a div.sk-label label {font-family: monospace;font-weight: bold;background-color: white;display: inline-block;line-height: 1.2em;}#sk-14894bf4-3833-42fb-97dd-ce0679d8105a div.sk-label-container {position: relative;z-index: 2;text-align: center;}#sk-14894bf4-3833-42fb-97dd-ce0679d8105a div.sk-container {/* jupyter's `normalize.less` sets `[hidden] { display: none; }` but bootstrap.min.css set `[hidden] { display: none !important; }` so we also need the `!important` here to be able to override the default hidden behavior on the sphinx rendered scikit-learn.org. See: https://github.com/scikit-learn/scikit-learn/issues/21755 */display: inline-block !important;position: relative;}#sk-14894bf4-3833-42fb-97dd-ce0679d8105a div.sk-text-repr-fallback {display: none;}</style><div id=\"sk-14894bf4-3833-42fb-97dd-ce0679d8105a\" class=\"sk-top-container\"><div class=\"sk-text-repr-fallback\"><pre>ColumnTransformer(remainder=&#x27;passthrough&#x27;,\n",
              "                  transformers=[(&#x27;standardscaler&#x27;, StandardScaler(),\n",
              "                                 &lt;sklearn.compose._column_transformer.make_column_selector object at 0x7fc2d0de5b50&gt;),\n",
              "                                (&#x27;onehotencoder&#x27;,\n",
              "                                 OneHotEncoder(handle_unknown=&#x27;ignore&#x27;,\n",
              "                                               sparse=False),\n",
              "                                 &lt;sklearn.compose._column_transformer.make_column_selector object at 0x7fc2d0de58e0&gt;)])</pre><b>Please rerun this cell to show the HTML repr or trust the notebook.</b></div><div class=\"sk-container\" hidden><div class=\"sk-item sk-dashed-wrapped\"><div class=\"sk-label-container\"><div class=\"sk-label sk-toggleable\"><input class=\"sk-toggleable__control sk-hidden--visually\" id=\"cc423582-438b-484e-b6cf-305e56067451\" type=\"checkbox\" ><label for=\"cc423582-438b-484e-b6cf-305e56067451\" class=\"sk-toggleable__label sk-toggleable__label-arrow\">ColumnTransformer</label><div class=\"sk-toggleable__content\"><pre>ColumnTransformer(remainder=&#x27;passthrough&#x27;,\n",
              "                  transformers=[(&#x27;standardscaler&#x27;, StandardScaler(),\n",
              "                                 &lt;sklearn.compose._column_transformer.make_column_selector object at 0x7fc2d0de5b50&gt;),\n",
              "                                (&#x27;onehotencoder&#x27;,\n",
              "                                 OneHotEncoder(handle_unknown=&#x27;ignore&#x27;,\n",
              "                                               sparse=False),\n",
              "                                 &lt;sklearn.compose._column_transformer.make_column_selector object at 0x7fc2d0de58e0&gt;)])</pre></div></div></div><div class=\"sk-parallel\"><div class=\"sk-parallel-item\"><div class=\"sk-item\"><div class=\"sk-label-container\"><div class=\"sk-label sk-toggleable\"><input class=\"sk-toggleable__control sk-hidden--visually\" id=\"0dd99404-2032-4481-95d3-c79e8e70f636\" type=\"checkbox\" ><label for=\"0dd99404-2032-4481-95d3-c79e8e70f636\" class=\"sk-toggleable__label sk-toggleable__label-arrow\">standardscaler</label><div class=\"sk-toggleable__content\"><pre>&lt;sklearn.compose._column_transformer.make_column_selector object at 0x7fc2d0de5b50&gt;</pre></div></div></div><div class=\"sk-serial\"><div class=\"sk-item\"><div class=\"sk-estimator sk-toggleable\"><input class=\"sk-toggleable__control sk-hidden--visually\" id=\"2ddd5a1d-2ae6-4ee0-a211-95ee191fa2d2\" type=\"checkbox\" ><label for=\"2ddd5a1d-2ae6-4ee0-a211-95ee191fa2d2\" class=\"sk-toggleable__label sk-toggleable__label-arrow\">StandardScaler</label><div class=\"sk-toggleable__content\"><pre>StandardScaler()</pre></div></div></div></div></div></div><div class=\"sk-parallel-item\"><div class=\"sk-item\"><div class=\"sk-label-container\"><div class=\"sk-label sk-toggleable\"><input class=\"sk-toggleable__control sk-hidden--visually\" id=\"000f9f2b-32f7-47d8-8f69-3ac9530de25c\" type=\"checkbox\" ><label for=\"000f9f2b-32f7-47d8-8f69-3ac9530de25c\" class=\"sk-toggleable__label sk-toggleable__label-arrow\">onehotencoder</label><div class=\"sk-toggleable__content\"><pre>&lt;sklearn.compose._column_transformer.make_column_selector object at 0x7fc2d0de58e0&gt;</pre></div></div></div><div class=\"sk-serial\"><div class=\"sk-item\"><div class=\"sk-estimator sk-toggleable\"><input class=\"sk-toggleable__control sk-hidden--visually\" id=\"f54e0673-9ca0-409a-8ac4-74bacbca5aa2\" type=\"checkbox\" ><label for=\"f54e0673-9ca0-409a-8ac4-74bacbca5aa2\" class=\"sk-toggleable__label sk-toggleable__label-arrow\">OneHotEncoder</label><div class=\"sk-toggleable__content\"><pre>OneHotEncoder(handle_unknown=&#x27;ignore&#x27;, sparse=False)</pre></div></div></div></div></div></div><div class=\"sk-parallel-item\"><div class=\"sk-item\"><div class=\"sk-label-container\"><div class=\"sk-label sk-toggleable\"><input class=\"sk-toggleable__control sk-hidden--visually\" id=\"bda1e9af-d4bd-449a-afaf-6e64403363de\" type=\"checkbox\" ><label for=\"bda1e9af-d4bd-449a-afaf-6e64403363de\" class=\"sk-toggleable__label sk-toggleable__label-arrow\">remainder</label><div class=\"sk-toggleable__content\"><pre></pre></div></div></div><div class=\"sk-serial\"><div class=\"sk-item\"><div class=\"sk-estimator sk-toggleable\"><input class=\"sk-toggleable__control sk-hidden--visually\" id=\"c80a3986-68a8-48a4-b159-d21b809adf57\" type=\"checkbox\" ><label for=\"c80a3986-68a8-48a4-b159-d21b809adf57\" class=\"sk-toggleable__label sk-toggleable__label-arrow\">passthrough</label><div class=\"sk-toggleable__content\"><pre>passthrough</pre></div></div></div></div></div></div></div></div></div></div>"
            ]
          },
          "metadata": {},
          "execution_count": 290
        }
      ],
      "source": [
        "#preprocessing the dataset. \n",
        "preprocessor = make_column_transformer(num_tuple, cat_tuple, remainder= 'passthrough')\n",
        "preprocessor"
      ]
    },
    {
      "cell_type": "markdown",
      "source": [
        "### Fitting the data"
      ],
      "metadata": {
        "id": "7czbhIDhDGIO"
      }
    },
    {
      "cell_type": "code",
      "execution_count": 291,
      "metadata": {
        "colab": {
          "base_uri": "https://localhost:8080/",
          "height": 118
        },
        "id": "-dsi94cDjOt9",
        "outputId": "95bdcbcd-6170-4946-9eae-c728f860ab1b"
      },
      "outputs": [
        {
          "output_type": "execute_result",
          "data": {
            "text/plain": [
              "ColumnTransformer(remainder='passthrough',\n",
              "                  transformers=[('standardscaler', StandardScaler(),\n",
              "                                 <sklearn.compose._column_transformer.make_column_selector object at 0x7fc2d0de5b50>),\n",
              "                                ('onehotencoder',\n",
              "                                 OneHotEncoder(handle_unknown='ignore',\n",
              "                                               sparse=False),\n",
              "                                 <sklearn.compose._column_transformer.make_column_selector object at 0x7fc2d0de58e0>)])"
            ],
            "text/html": [
              "<style>#sk-27055fd2-6949-480d-acab-202804938549 {color: black;background-color: white;}#sk-27055fd2-6949-480d-acab-202804938549 pre{padding: 0;}#sk-27055fd2-6949-480d-acab-202804938549 div.sk-toggleable {background-color: white;}#sk-27055fd2-6949-480d-acab-202804938549 label.sk-toggleable__label {cursor: pointer;display: block;width: 100%;margin-bottom: 0;padding: 0.3em;box-sizing: border-box;text-align: center;}#sk-27055fd2-6949-480d-acab-202804938549 label.sk-toggleable__label-arrow:before {content: \"▸\";float: left;margin-right: 0.25em;color: #696969;}#sk-27055fd2-6949-480d-acab-202804938549 label.sk-toggleable__label-arrow:hover:before {color: black;}#sk-27055fd2-6949-480d-acab-202804938549 div.sk-estimator:hover label.sk-toggleable__label-arrow:before {color: black;}#sk-27055fd2-6949-480d-acab-202804938549 div.sk-toggleable__content {max-height: 0;max-width: 0;overflow: hidden;text-align: left;background-color: #f0f8ff;}#sk-27055fd2-6949-480d-acab-202804938549 div.sk-toggleable__content pre {margin: 0.2em;color: black;border-radius: 0.25em;background-color: #f0f8ff;}#sk-27055fd2-6949-480d-acab-202804938549 input.sk-toggleable__control:checked~div.sk-toggleable__content {max-height: 200px;max-width: 100%;overflow: auto;}#sk-27055fd2-6949-480d-acab-202804938549 input.sk-toggleable__control:checked~label.sk-toggleable__label-arrow:before {content: \"▾\";}#sk-27055fd2-6949-480d-acab-202804938549 div.sk-estimator input.sk-toggleable__control:checked~label.sk-toggleable__label {background-color: #d4ebff;}#sk-27055fd2-6949-480d-acab-202804938549 div.sk-label input.sk-toggleable__control:checked~label.sk-toggleable__label {background-color: #d4ebff;}#sk-27055fd2-6949-480d-acab-202804938549 input.sk-hidden--visually {border: 0;clip: rect(1px 1px 1px 1px);clip: rect(1px, 1px, 1px, 1px);height: 1px;margin: -1px;overflow: hidden;padding: 0;position: absolute;width: 1px;}#sk-27055fd2-6949-480d-acab-202804938549 div.sk-estimator {font-family: monospace;background-color: #f0f8ff;border: 1px dotted black;border-radius: 0.25em;box-sizing: border-box;margin-bottom: 0.5em;}#sk-27055fd2-6949-480d-acab-202804938549 div.sk-estimator:hover {background-color: #d4ebff;}#sk-27055fd2-6949-480d-acab-202804938549 div.sk-parallel-item::after {content: \"\";width: 100%;border-bottom: 1px solid gray;flex-grow: 1;}#sk-27055fd2-6949-480d-acab-202804938549 div.sk-label:hover label.sk-toggleable__label {background-color: #d4ebff;}#sk-27055fd2-6949-480d-acab-202804938549 div.sk-serial::before {content: \"\";position: absolute;border-left: 1px solid gray;box-sizing: border-box;top: 2em;bottom: 0;left: 50%;}#sk-27055fd2-6949-480d-acab-202804938549 div.sk-serial {display: flex;flex-direction: column;align-items: center;background-color: white;padding-right: 0.2em;padding-left: 0.2em;}#sk-27055fd2-6949-480d-acab-202804938549 div.sk-item {z-index: 1;}#sk-27055fd2-6949-480d-acab-202804938549 div.sk-parallel {display: flex;align-items: stretch;justify-content: center;background-color: white;}#sk-27055fd2-6949-480d-acab-202804938549 div.sk-parallel::before {content: \"\";position: absolute;border-left: 1px solid gray;box-sizing: border-box;top: 2em;bottom: 0;left: 50%;}#sk-27055fd2-6949-480d-acab-202804938549 div.sk-parallel-item {display: flex;flex-direction: column;position: relative;background-color: white;}#sk-27055fd2-6949-480d-acab-202804938549 div.sk-parallel-item:first-child::after {align-self: flex-end;width: 50%;}#sk-27055fd2-6949-480d-acab-202804938549 div.sk-parallel-item:last-child::after {align-self: flex-start;width: 50%;}#sk-27055fd2-6949-480d-acab-202804938549 div.sk-parallel-item:only-child::after {width: 0;}#sk-27055fd2-6949-480d-acab-202804938549 div.sk-dashed-wrapped {border: 1px dashed gray;margin: 0 0.4em 0.5em 0.4em;box-sizing: border-box;padding-bottom: 0.4em;background-color: white;position: relative;}#sk-27055fd2-6949-480d-acab-202804938549 div.sk-label label {font-family: monospace;font-weight: bold;background-color: white;display: inline-block;line-height: 1.2em;}#sk-27055fd2-6949-480d-acab-202804938549 div.sk-label-container {position: relative;z-index: 2;text-align: center;}#sk-27055fd2-6949-480d-acab-202804938549 div.sk-container {/* jupyter's `normalize.less` sets `[hidden] { display: none; }` but bootstrap.min.css set `[hidden] { display: none !important; }` so we also need the `!important` here to be able to override the default hidden behavior on the sphinx rendered scikit-learn.org. See: https://github.com/scikit-learn/scikit-learn/issues/21755 */display: inline-block !important;position: relative;}#sk-27055fd2-6949-480d-acab-202804938549 div.sk-text-repr-fallback {display: none;}</style><div id=\"sk-27055fd2-6949-480d-acab-202804938549\" class=\"sk-top-container\"><div class=\"sk-text-repr-fallback\"><pre>ColumnTransformer(remainder=&#x27;passthrough&#x27;,\n",
              "                  transformers=[(&#x27;standardscaler&#x27;, StandardScaler(),\n",
              "                                 &lt;sklearn.compose._column_transformer.make_column_selector object at 0x7fc2d0de5b50&gt;),\n",
              "                                (&#x27;onehotencoder&#x27;,\n",
              "                                 OneHotEncoder(handle_unknown=&#x27;ignore&#x27;,\n",
              "                                               sparse=False),\n",
              "                                 &lt;sklearn.compose._column_transformer.make_column_selector object at 0x7fc2d0de58e0&gt;)])</pre><b>Please rerun this cell to show the HTML repr or trust the notebook.</b></div><div class=\"sk-container\" hidden><div class=\"sk-item sk-dashed-wrapped\"><div class=\"sk-label-container\"><div class=\"sk-label sk-toggleable\"><input class=\"sk-toggleable__control sk-hidden--visually\" id=\"ac408bff-67ee-4f4a-8726-49b31b7fb4b8\" type=\"checkbox\" ><label for=\"ac408bff-67ee-4f4a-8726-49b31b7fb4b8\" class=\"sk-toggleable__label sk-toggleable__label-arrow\">ColumnTransformer</label><div class=\"sk-toggleable__content\"><pre>ColumnTransformer(remainder=&#x27;passthrough&#x27;,\n",
              "                  transformers=[(&#x27;standardscaler&#x27;, StandardScaler(),\n",
              "                                 &lt;sklearn.compose._column_transformer.make_column_selector object at 0x7fc2d0de5b50&gt;),\n",
              "                                (&#x27;onehotencoder&#x27;,\n",
              "                                 OneHotEncoder(handle_unknown=&#x27;ignore&#x27;,\n",
              "                                               sparse=False),\n",
              "                                 &lt;sklearn.compose._column_transformer.make_column_selector object at 0x7fc2d0de58e0&gt;)])</pre></div></div></div><div class=\"sk-parallel\"><div class=\"sk-parallel-item\"><div class=\"sk-item\"><div class=\"sk-label-container\"><div class=\"sk-label sk-toggleable\"><input class=\"sk-toggleable__control sk-hidden--visually\" id=\"e783ed20-431e-4384-97f0-546a74ded0ef\" type=\"checkbox\" ><label for=\"e783ed20-431e-4384-97f0-546a74ded0ef\" class=\"sk-toggleable__label sk-toggleable__label-arrow\">standardscaler</label><div class=\"sk-toggleable__content\"><pre>&lt;sklearn.compose._column_transformer.make_column_selector object at 0x7fc2d0de5b50&gt;</pre></div></div></div><div class=\"sk-serial\"><div class=\"sk-item\"><div class=\"sk-estimator sk-toggleable\"><input class=\"sk-toggleable__control sk-hidden--visually\" id=\"964398d9-b827-4f44-b536-51f150e38afe\" type=\"checkbox\" ><label for=\"964398d9-b827-4f44-b536-51f150e38afe\" class=\"sk-toggleable__label sk-toggleable__label-arrow\">StandardScaler</label><div class=\"sk-toggleable__content\"><pre>StandardScaler()</pre></div></div></div></div></div></div><div class=\"sk-parallel-item\"><div class=\"sk-item\"><div class=\"sk-label-container\"><div class=\"sk-label sk-toggleable\"><input class=\"sk-toggleable__control sk-hidden--visually\" id=\"6b5be361-38cc-429c-a5fb-838644bc734a\" type=\"checkbox\" ><label for=\"6b5be361-38cc-429c-a5fb-838644bc734a\" class=\"sk-toggleable__label sk-toggleable__label-arrow\">onehotencoder</label><div class=\"sk-toggleable__content\"><pre>&lt;sklearn.compose._column_transformer.make_column_selector object at 0x7fc2d0de58e0&gt;</pre></div></div></div><div class=\"sk-serial\"><div class=\"sk-item\"><div class=\"sk-estimator sk-toggleable\"><input class=\"sk-toggleable__control sk-hidden--visually\" id=\"7a54eb0a-b9ea-4529-bfa3-65b64ee49b28\" type=\"checkbox\" ><label for=\"7a54eb0a-b9ea-4529-bfa3-65b64ee49b28\" class=\"sk-toggleable__label sk-toggleable__label-arrow\">OneHotEncoder</label><div class=\"sk-toggleable__content\"><pre>OneHotEncoder(handle_unknown=&#x27;ignore&#x27;, sparse=False)</pre></div></div></div></div></div></div><div class=\"sk-parallel-item\"><div class=\"sk-item\"><div class=\"sk-label-container\"><div class=\"sk-label sk-toggleable\"><input class=\"sk-toggleable__control sk-hidden--visually\" id=\"d4fc6aed-a16e-4823-a17d-28a5c9ce8c97\" type=\"checkbox\" ><label for=\"d4fc6aed-a16e-4823-a17d-28a5c9ce8c97\" class=\"sk-toggleable__label sk-toggleable__label-arrow\">remainder</label><div class=\"sk-toggleable__content\"><pre>[]</pre></div></div></div><div class=\"sk-serial\"><div class=\"sk-item\"><div class=\"sk-estimator sk-toggleable\"><input class=\"sk-toggleable__control sk-hidden--visually\" id=\"0c464cfb-4a9a-4e3f-8e4b-3a8c51b5a06b\" type=\"checkbox\" ><label for=\"0c464cfb-4a9a-4e3f-8e4b-3a8c51b5a06b\" class=\"sk-toggleable__label sk-toggleable__label-arrow\">passthrough</label><div class=\"sk-toggleable__content\"><pre>passthrough</pre></div></div></div></div></div></div></div></div></div></div>"
            ]
          },
          "metadata": {},
          "execution_count": 291
        }
      ],
      "source": [
        "#fitting the preprcessor to X_train\n",
        "preprocessor.fit(X_train)"
      ]
    },
    {
      "cell_type": "markdown",
      "metadata": {
        "id": "WYi97GPNjOt9"
      },
      "source": [
        "### Transforming X_train and X_test"
      ]
    },
    {
      "cell_type": "code",
      "execution_count": 292,
      "metadata": {
        "id": "L4OhPdZcjOt9"
      },
      "outputs": [],
      "source": [
        "#X_train transformed\n",
        "X_train_processed = preprocessor.transform(X_train)\n",
        "\n",
        "#X_test transformed\n",
        "X_test_processed = preprocessor.transform(X_test)"
      ]
    },
    {
      "cell_type": "markdown",
      "source": [
        "### Looking at the results"
      ],
      "metadata": {
        "id": "JE1K3h3YDPUw"
      }
    },
    {
      "cell_type": "code",
      "execution_count": 293,
      "metadata": {
        "colab": {
          "base_uri": "https://localhost:8080/"
        },
        "id": "-cGRzOHbjOt9",
        "outputId": "4633098c-a93e-4a2e-dfd5-b566939883ab"
      },
      "outputs": [
        {
          "output_type": "stream",
          "name": "stdout",
          "text": [
            "X_train has 0 missing values\n",
            "X_test has 0 missing values\n",
            "----------------------------------------\n",
            "\n",
            "\n",
            "The X_train has: float64\n",
            "The X_test has: float64\n",
            "----------------------------------------\n",
            "\n",
            "\n",
            "The shape of X_train is (204, 9)\n",
            "The shape of X_test is (68, 9)\n",
            "----------------------------------------\n",
            "\n",
            "\n",
            "X_train_processed example:\n",
            "\n",
            "\n",
            "[[-1.67540706 -1.01889016  1.          0.          1.          0.\n",
            "   0.          1.          0.        ]\n",
            " [ 0.15376478 -0.65638578  1.          0.          1.          0.\n",
            "   0.          1.          0.        ]\n",
            " [ 0.18998299  0.09754706  1.          0.          0.          1.\n",
            "   0.          1.          0.        ]\n",
            " [-0.56999074 -0.86680042  0.          1.          0.          1.\n",
            "   0.          0.          1.        ]]\n",
            "----------------------------------------\n",
            "\n",
            "\n",
            "X_test_processed example:\n",
            "\n",
            "\n",
            "[[-0.98452186  2.53384351  0.          1.          1.          0.\n",
            "   0.          1.          0.        ]]\n",
            "----------------------------------------\n"
          ]
        }
      ],
      "source": [
        "#importing numpy\n",
        "import numpy as np\n",
        "\n",
        "#Printing any missing values in the feature columns.\n",
        "print(\"X_train has\", np.isnan(X_train_processed).sum().sum(), \"missing values\")\n",
        "print(\"X_test has\", np.isnan(X_test_processed).sum().sum(), \"missing values\")\n",
        "print('----------------------------------------')\n",
        "print(\"\\n\")\n",
        "\n",
        "#Printing the dtypes. \n",
        "print('The X_train has:', X_train_processed.dtype)\n",
        "print('The X_test has:', X_test_processed.dtype)\n",
        "print('----------------------------------------')\n",
        "print(\"\\n\")\n",
        "\n",
        "#Printing the shape of the datasets.\n",
        "print('The shape of X_train is', X_train_processed.shape)\n",
        "print('The shape of X_test is', X_test_processed.shape)\n",
        "print('----------------------------------------')\n",
        "print(\"\\n\")\n",
        "\n",
        "#Printing a sample of the X_train_processed dataset:\n",
        "print(\"X_train_processed example:\")\n",
        "print(\"\\n\")\n",
        "print(X_train_processed[2:6])\n",
        "print('----------------------------------------')\n",
        "print(\"\\n\")\n",
        "\n",
        "#Printing a sample of the X_test_processed dataset:\n",
        "print(\"X_test_processed example:\")\n",
        "print(\"\\n\")\n",
        "print(X_test_processed[7:8])\n",
        "print('----------------------------------------')"
      ]
    },
    {
      "cell_type": "markdown",
      "metadata": {
        "id": "EXItR6hSjOt-"
      },
      "source": [
        "## Machine Learning Models"
      ]
    },
    {
      "cell_type": "markdown",
      "metadata": {
        "id": "LKoGxTtpjOt-"
      },
      "source": [
        "### Logistic Regression Model"
      ]
    },
    {
      "cell_type": "markdown",
      "metadata": {
        "id": "xW91DKqZjOt-"
      },
      "source": [
        "#### Default Logistic Regression Model"
      ]
    },
    {
      "cell_type": "code",
      "execution_count": 294,
      "metadata": {
        "colab": {
          "base_uri": "https://localhost:8080/"
        },
        "id": "qmXAwcB9jOt-",
        "outputId": "9140783d-ece7-4eeb-98b6-bca7facc8df3"
      },
      "outputs": [
        {
          "output_type": "execute_result",
          "data": {
            "text/plain": [
              "array([1, 0, 0, 0, 1, 1, 1, 0, 0, 1, 1, 0, 0, 0, 1, 1, 0, 0, 1, 0, 0, 0,\n",
              "       0, 0, 0, 0, 0, 1, 1, 1, 1, 0, 0, 1, 0, 1, 1, 1, 1, 1, 0, 1, 1, 0,\n",
              "       0, 0, 1, 0, 0, 0, 0, 1, 1, 1, 0, 1, 0, 1, 0, 0, 0, 0, 1, 0, 0, 1,\n",
              "       1, 1])"
            ]
          },
          "metadata": {},
          "execution_count": 294
        }
      ],
      "source": [
        "#importing Logistic Regression. \n",
        "from sklearn.linear_model import LogisticRegression\n",
        "\n",
        "#initializing the model \n",
        "log_reg = LogisticRegression()\n",
        "\n",
        "#making a pipeline\n",
        "log_reg_pipeline = make_pipeline(preprocessor, log_reg)\n",
        "\n",
        "#fitting the data\n",
        "log_reg_pipeline.fit(X_train, y_train)\n",
        "\n",
        "#predicting\n",
        "log_default_pred_X_test = log_reg_pipeline.predict(X_test)\n",
        "\n",
        "#printing prediction\n",
        "log_default_pred_X_test\n"
      ]
    },
    {
      "cell_type": "markdown",
      "metadata": {
        "id": "yeLldxnMjOt-"
      },
      "source": [
        "##### Default Logistic Regression model score"
      ]
    },
    {
      "cell_type": "code",
      "execution_count": 295,
      "metadata": {
        "colab": {
          "base_uri": "https://localhost:8080/"
        },
        "id": "cdus2rmKjOt-",
        "outputId": "c422a3c7-3f4e-4552-cbd3-ec7c8dae802f"
      },
      "outputs": [
        {
          "output_type": "stream",
          "name": "stdout",
          "text": [
            "Log default model train score 0.946078431372549\n",
            "Log default model test score 0.9264705882352942\n"
          ]
        }
      ],
      "source": [
        "print(\"Log default model train score\" + \" \"+ str(log_reg_pipeline.score(X_train, y_train)))\n",
        "print(\"Log default model test score\" + \" \"+ str(log_reg_pipeline.score(X_test, y_test)))"
      ]
    },
    {
      "cell_type": "markdown",
      "metadata": {
        "id": "B53cxWF5jOt-"
      },
      "source": [
        "#### Confusion Matrix"
      ]
    },
    {
      "cell_type": "code",
      "source": [
        "#importing confusion matrix\n",
        "from sklearn.metrics import confusion_matrix\n",
        "\n",
        "#predicting\n",
        "pred = log_reg_pipeline.predict(X_test)\n",
        "\n",
        "#creating a confusion matrix\n",
        "c_mat = confusion_matrix(y_test, pred, normalize='true')\n",
        "\n",
        "#turning the confusion matrix into a DataFrame\n",
        "cmat_df = pd.DataFrame(c_mat)\n",
        "cmat_df"
      ],
      "metadata": {
        "colab": {
          "base_uri": "https://localhost:8080/",
          "height": 112
        },
        "id": "xDF6Fi8ckB2j",
        "outputId": "71d1b582-c9f1-4b97-ad81-8e5f1a9a7bc2"
      },
      "execution_count": 296,
      "outputs": [
        {
          "output_type": "execute_result",
          "data": {
            "text/plain": [
              "          0         1\n",
              "0  0.880952  0.119048\n",
              "1  0.000000  1.000000"
            ],
            "text/html": [
              "\n",
              "  <div id=\"df-af03ec8d-4503-4c95-96b4-607e8cbce87f\">\n",
              "    <div class=\"colab-df-container\">\n",
              "      <div>\n",
              "<style scoped>\n",
              "    .dataframe tbody tr th:only-of-type {\n",
              "        vertical-align: middle;\n",
              "    }\n",
              "\n",
              "    .dataframe tbody tr th {\n",
              "        vertical-align: top;\n",
              "    }\n",
              "\n",
              "    .dataframe thead th {\n",
              "        text-align: right;\n",
              "    }\n",
              "</style>\n",
              "<table border=\"1\" class=\"dataframe\">\n",
              "  <thead>\n",
              "    <tr style=\"text-align: right;\">\n",
              "      <th></th>\n",
              "      <th>0</th>\n",
              "      <th>1</th>\n",
              "    </tr>\n",
              "  </thead>\n",
              "  <tbody>\n",
              "    <tr>\n",
              "      <th>0</th>\n",
              "      <td>0.880952</td>\n",
              "      <td>0.119048</td>\n",
              "    </tr>\n",
              "    <tr>\n",
              "      <th>1</th>\n",
              "      <td>0.000000</td>\n",
              "      <td>1.000000</td>\n",
              "    </tr>\n",
              "  </tbody>\n",
              "</table>\n",
              "</div>\n",
              "      <button class=\"colab-df-convert\" onclick=\"convertToInteractive('df-af03ec8d-4503-4c95-96b4-607e8cbce87f')\"\n",
              "              title=\"Convert this dataframe to an interactive table.\"\n",
              "              style=\"display:none;\">\n",
              "        \n",
              "  <svg xmlns=\"http://www.w3.org/2000/svg\" height=\"24px\"viewBox=\"0 0 24 24\"\n",
              "       width=\"24px\">\n",
              "    <path d=\"M0 0h24v24H0V0z\" fill=\"none\"/>\n",
              "    <path d=\"M18.56 5.44l.94 2.06.94-2.06 2.06-.94-2.06-.94-.94-2.06-.94 2.06-2.06.94zm-11 1L8.5 8.5l.94-2.06 2.06-.94-2.06-.94L8.5 2.5l-.94 2.06-2.06.94zm10 10l.94 2.06.94-2.06 2.06-.94-2.06-.94-.94-2.06-.94 2.06-2.06.94z\"/><path d=\"M17.41 7.96l-1.37-1.37c-.4-.4-.92-.59-1.43-.59-.52 0-1.04.2-1.43.59L10.3 9.45l-7.72 7.72c-.78.78-.78 2.05 0 2.83L4 21.41c.39.39.9.59 1.41.59.51 0 1.02-.2 1.41-.59l7.78-7.78 2.81-2.81c.8-.78.8-2.07 0-2.86zM5.41 20L4 18.59l7.72-7.72 1.47 1.35L5.41 20z\"/>\n",
              "  </svg>\n",
              "      </button>\n",
              "      \n",
              "  <style>\n",
              "    .colab-df-container {\n",
              "      display:flex;\n",
              "      flex-wrap:wrap;\n",
              "      gap: 12px;\n",
              "    }\n",
              "\n",
              "    .colab-df-convert {\n",
              "      background-color: #E8F0FE;\n",
              "      border: none;\n",
              "      border-radius: 50%;\n",
              "      cursor: pointer;\n",
              "      display: none;\n",
              "      fill: #1967D2;\n",
              "      height: 32px;\n",
              "      padding: 0 0 0 0;\n",
              "      width: 32px;\n",
              "    }\n",
              "\n",
              "    .colab-df-convert:hover {\n",
              "      background-color: #E2EBFA;\n",
              "      box-shadow: 0px 1px 2px rgba(60, 64, 67, 0.3), 0px 1px 3px 1px rgba(60, 64, 67, 0.15);\n",
              "      fill: #174EA6;\n",
              "    }\n",
              "\n",
              "    [theme=dark] .colab-df-convert {\n",
              "      background-color: #3B4455;\n",
              "      fill: #D2E3FC;\n",
              "    }\n",
              "\n",
              "    [theme=dark] .colab-df-convert:hover {\n",
              "      background-color: #434B5C;\n",
              "      box-shadow: 0px 1px 3px 1px rgba(0, 0, 0, 0.15);\n",
              "      filter: drop-shadow(0px 1px 2px rgba(0, 0, 0, 0.3));\n",
              "      fill: #FFFFFF;\n",
              "    }\n",
              "  </style>\n",
              "\n",
              "      <script>\n",
              "        const buttonEl =\n",
              "          document.querySelector('#df-af03ec8d-4503-4c95-96b4-607e8cbce87f button.colab-df-convert');\n",
              "        buttonEl.style.display =\n",
              "          google.colab.kernel.accessAllowed ? 'block' : 'none';\n",
              "\n",
              "        async function convertToInteractive(key) {\n",
              "          const element = document.querySelector('#df-af03ec8d-4503-4c95-96b4-607e8cbce87f');\n",
              "          const dataTable =\n",
              "            await google.colab.kernel.invokeFunction('convertToInteractive',\n",
              "                                                     [key], {});\n",
              "          if (!dataTable) return;\n",
              "\n",
              "          const docLinkHtml = 'Like what you see? Visit the ' +\n",
              "            '<a target=\"_blank\" href=https://colab.research.google.com/notebooks/data_table.ipynb>data table notebook</a>'\n",
              "            + ' to learn more about interactive tables.';\n",
              "          element.innerHTML = '';\n",
              "          dataTable['output_type'] = 'display_data';\n",
              "          await google.colab.output.renderOutput(dataTable, element);\n",
              "          const docLink = document.createElement('div');\n",
              "          docLink.innerHTML = docLinkHtml;\n",
              "          element.appendChild(docLink);\n",
              "        }\n",
              "      </script>\n",
              "    </div>\n",
              "  </div>\n",
              "  "
            ]
          },
          "metadata": {},
          "execution_count": 296
        }
      ]
    },
    {
      "cell_type": "markdown",
      "source": [
        "##### Displaying the confusion matrix"
      ],
      "metadata": {
        "id": "r8ebgucJES9I"
      }
    },
    {
      "cell_type": "code",
      "execution_count": 297,
      "metadata": {
        "colab": {
          "base_uri": "https://localhost:8080/",
          "height": 289
        },
        "id": "J5HYgKcgjOt-",
        "outputId": "e72dd53b-5be6-41b1-ca20-74028f11545a"
      },
      "outputs": [
        {
          "output_type": "display_data",
          "data": {
            "text/plain": [
              "<Figure size 360x288 with 2 Axes>"
            ],
            "image/png": "[encoded data removed]"
          },
          "metadata": {}
        }
      ],
      "source": [
        "#Importing ConfusionMatrixDisplay\n",
        "from sklearn.metrics import ConfusionMatrixDisplay\n",
        "\n",
        "# Plotting the confusion matrix\n",
        "ConfusionMatrixDisplay.from_predictions(y_test, pred, normalize='true', cmap = 'Blues' );"
      ]
    },
    {
      "cell_type": "markdown",
      "source": [
        "#### Hypertuning Logistic Regression Model"
      ],
      "metadata": {
        "id": "50qIjYark1nS"
      }
    },
    {
      "cell_type": "markdown",
      "source": [
        "##### L1 Tuning\n",
        "##### Solver = Saga"
      ],
      "metadata": {
        "id": "v8LiCcChl2Lk"
      }
    },
    {
      "cell_type": "code",
      "source": [
        "#creating a list of C values and two empty lists for the scores\n",
        "C_values = [0.001,0.01,0.1,1.0,10.0,100.0,1000.0]\n",
        "\n",
        "#creating an emtpy train score variable\n",
        "train_score = []\n",
        "\n",
        "#creating an emtpy test score variable\n",
        "test_score = []\n",
        "\n",
        "#creating a loop to get the best c_value\n",
        "for c in C_values:\n",
        "  #Initializing logistic regression\n",
        "  log_reg = LogisticRegression(C=c, max_iter=1000, solver='saga', penalty='l1')\n",
        "  #creating a pipeline\n",
        "  log_reg_pipe = make_pipeline(preprocessor, log_reg)\n",
        "  #fitting the model \n",
        "  log_reg_pipe.fit(X_train, y_train)\n",
        "  #append the scores to train_score variable\n",
        "  train_score.append(log_reg_pipe.score(X_train, y_train))\n",
        "  #append the scores to test_score variable\n",
        "  test_score.append(log_reg_pipe.score(X_test, y_test))\n",
        "\n",
        "#plotting the scores.\n",
        "fig, ax = plt.subplots(1,1)\n",
        "ax.plot(C_values, train_score, label = 'Training Accuracy')\n",
        "ax.plot(C_values, test_score, label = 'Testing Accuracy')\n",
        "ax.set_xticks(C_values)\n",
        "ax.set_title('Accuracy changes over C values with L1 regularization & Solver = Saga')\n",
        "ax.legend()\n",
        "ax.set_xscale('log')\n",
        "\n",
        "#printing the resutls. \n",
        "print('Test Scores:')\n",
        "{c:score for c,score in zip(C_values, test_score)}"
      ],
      "metadata": {
        "colab": {
          "base_uri": "https://localhost:8080/",
          "height": 484
        },
        "id": "SnQXjxNel3uA",
        "outputId": "0d0ab6cd-7fb9-4dec-d3be-5ccfe1784ad8"
      },
      "execution_count": 298,
      "outputs": [
        {
          "output_type": "stream",
          "name": "stdout",
          "text": [
            "Test Scores:\n"
          ]
        },
        {
          "output_type": "stream",
          "name": "stderr",
          "text": [
            "/usr/local/lib/python3.8/dist-packages/sklearn/linear_model/_sag.py:352: ConvergenceWarning: The max_iter was reached which means the coef_ did not converge\n",
            "  warnings.warn(\n"
          ]
        },
        {
          "output_type": "execute_result",
          "data": {
            "text/plain": [
              "{0.001: 0.6176470588235294,\n",
              " 0.01: 0.6176470588235294,\n",
              " 0.1: 0.9117647058823529,\n",
              " 1.0: 0.9264705882352942,\n",
              " 10.0: 0.9117647058823529,\n",
              " 100.0: 0.9117647058823529,\n",
              " 1000.0: 0.9117647058823529}"
            ]
          },
          "metadata": {},
          "execution_count": 298
        },
        {
          "output_type": "display_data",
          "data": {
            "text/plain": [
              "<Figure size 360x288 with 1 Axes>"
            ],
            "image/png": "[encoded data removed]"
          },
          "metadata": {}
        }
      ]
    },
    {
      "cell_type": "markdown",
      "source": [
        "At C= 0.1 the test accuracy goes higher than the train. "
      ],
      "metadata": {
        "id": "sBeZyKb8mEtP"
      }
    },
    {
      "cell_type": "markdown",
      "source": [
        "##### L1 Tuning\n",
        "##### Solver = liblinear"
      ],
      "metadata": {
        "id": "r7bPZq7Kk_Tl"
      }
    },
    {
      "cell_type": "code",
      "execution_count": 299,
      "metadata": {
        "colab": {
          "base_uri": "https://localhost:8080/",
          "height": 429
        },
        "id": "vnm8y7NxjOt_",
        "outputId": "f9daf6a4-cd85-4d2b-e4f1-f4a4310bc47e"
      },
      "outputs": [
        {
          "output_type": "stream",
          "name": "stdout",
          "text": [
            "Test Scores:\n"
          ]
        },
        {
          "output_type": "execute_result",
          "data": {
            "text/plain": [
              "{0.001: 0.6176470588235294,\n",
              " 0.01: 0.6176470588235294,\n",
              " 0.1: 0.8676470588235294,\n",
              " 1.0: 0.9264705882352942,\n",
              " 10.0: 0.9117647058823529,\n",
              " 100.0: 0.9117647058823529,\n",
              " 1000.0: 0.9117647058823529}"
            ]
          },
          "metadata": {},
          "execution_count": 299
        },
        {
          "output_type": "display_data",
          "data": {
            "text/plain": [
              "<Figure size 360x288 with 1 Axes>"
            ],
            "image/png": "[encoded data removed]"
          },
          "metadata": {}
        }
      ],
      "source": [
        "#creating a list of C values and two empty lists for the scores\n",
        "C_values = [0.001,0.01,0.1,1.0,10.0,100.0,1000.0]\n",
        "train_score = []\n",
        "test_score = []\n",
        "\n",
        "for c in C_values:\n",
        "  #Initializing logistic regression\n",
        "  log_reg = LogisticRegression(C=c, max_iter=1000, solver='liblinear', penalty='l1')\n",
        "  #creating a pipeline\n",
        "  log_reg_pipe = make_pipeline(preprocessor, log_reg)\n",
        "  #fitting the model \n",
        "  log_reg_pipe.fit(X_train, y_train)\n",
        "  #append the scores to the train_score variable\n",
        "  train_score.append(log_reg_pipe.score(X_train, y_train))\n",
        "  #append the scores to the test_score variable\n",
        "  test_score.append(log_reg_pipe.score(X_test, y_test))\n",
        "\n",
        "#plotting the scores\n",
        "fig, ax = plt.subplots(1,1)\n",
        "ax.plot(C_values, train_score, label = 'Training Accuracy')\n",
        "ax.plot(C_values, test_score, label = 'Testing Accuracy')\n",
        "ax.set_xticks(C_values)\n",
        "ax.set_title('Accuracy changes over C values with L1 regularization & Solver = liblinear')\n",
        "ax.legend()\n",
        "ax.set_xscale('log')\n",
        "\n",
        "#printing the resutls. \n",
        "print('Test Scores:')\n",
        "{c:score for c,score in zip(C_values, test_score)}"
      ]
    },
    {
      "cell_type": "markdown",
      "source": [
        "The model prediction goes flat after C = 10"
      ],
      "metadata": {
        "id": "-MPGm0g2lsKB"
      }
    },
    {
      "cell_type": "markdown",
      "source": [
        "With Penaly = L1, Solver = Saga or Liblinear, the best/ reliable C values we are getting is 10.0, 100.0 & 1000.0"
      ],
      "metadata": {
        "id": "7OWv_ROwmXnJ"
      }
    },
    {
      "cell_type": "markdown",
      "source": [
        "##### L2 Tuning\n",
        "##### Solver = Saga"
      ],
      "metadata": {
        "id": "5oNmQrtkmoBp"
      }
    },
    {
      "cell_type": "code",
      "execution_count": 300,
      "metadata": {
        "colab": {
          "base_uri": "https://localhost:8080/",
          "height": 429
        },
        "id": "is_hkmTCjOt_",
        "outputId": "ae5801bd-387c-4e3f-8a66-f8afef15466d"
      },
      "outputs": [
        {
          "output_type": "stream",
          "name": "stdout",
          "text": [
            "Test Scores:\n"
          ]
        },
        {
          "output_type": "execute_result",
          "data": {
            "text/plain": [
              "{0.001: 0.6470588235294118,\n",
              " 0.01: 0.8823529411764706,\n",
              " 0.1: 0.8970588235294118,\n",
              " 1.0: 0.9264705882352942,\n",
              " 10.0: 0.9117647058823529,\n",
              " 100.0: 0.9117647058823529,\n",
              " 1000.0: 0.9117647058823529}"
            ]
          },
          "metadata": {},
          "execution_count": 300
        },
        {
          "output_type": "display_data",
          "data": {
            "text/plain": [
              "<Figure size 360x288 with 1 Axes>"
            ],
            "image/png": "[encoded data removed]"
          },
          "metadata": {}
        }
      ],
      "source": [
        "#creating a list of C values and two empty lists for the scores\n",
        "C_values = [0.001,0.01,0.1,1.0,10.0,100.0,1000.0]\n",
        "train_score = []\n",
        "test_score = []\n",
        "\n",
        "for c in C_values:\n",
        "  #Initializing logistic regression\n",
        "  log_reg = LogisticRegression(C=c, max_iter=1000, solver='saga', penalty='l2')\n",
        "  #creating a pipeline\n",
        "  log_reg_pipe = make_pipeline(preprocessor, log_reg)\n",
        "  #fitting the model \n",
        "  log_reg_pipe.fit(X_train, y_train)\n",
        "  #append the scores to the train_score variable\n",
        "  train_score.append(log_reg_pipe.score(X_train, y_train))\n",
        "  #append the scores to the test_score variable\n",
        "  test_score.append(log_reg_pipe.score(X_test, y_test))\n",
        "\n",
        "#plotting the scores.\n",
        "fig, ax = plt.subplots(1,1)\n",
        "ax.plot(C_values, train_score, label = 'Training Accuracy')\n",
        "ax.plot(C_values, test_score, label = 'Testing Accuracy')\n",
        "ax.set_xticks(C_values)\n",
        "ax.set_title('Accuracy changes over C values with L2 regularization & Solver = Saga')\n",
        "ax.legend()\n",
        "ax.set_xscale('log')\n",
        "\n",
        "#printing the resutls. \n",
        "print('Test Scores:')\n",
        "{c:score for c,score in zip(C_values, test_score)}"
      ]
    },
    {
      "cell_type": "markdown",
      "source": [
        "The model flattens at and after C = 1.0"
      ],
      "metadata": {
        "id": "EC8jRdHamw5o"
      }
    },
    {
      "cell_type": "markdown",
      "source": [
        "##### L2 Tuning\n",
        "##### Solver = Liblinear"
      ],
      "metadata": {
        "id": "GNheJCR4m0pM"
      }
    },
    {
      "cell_type": "code",
      "execution_count": 301,
      "metadata": {
        "colab": {
          "base_uri": "https://localhost:8080/",
          "height": 429
        },
        "id": "pPI4YlyvjOt_",
        "outputId": "bfa7bf39-0d4f-4c75-d08f-f4414a8c0888"
      },
      "outputs": [
        {
          "output_type": "stream",
          "name": "stdout",
          "text": [
            "Test Scores:\n"
          ]
        },
        {
          "output_type": "execute_result",
          "data": {
            "text/plain": [
              "{0.001: 0.8529411764705882,\n",
              " 0.01: 0.8529411764705882,\n",
              " 0.1: 0.8970588235294118,\n",
              " 1.0: 0.9264705882352942,\n",
              " 10.0: 0.9117647058823529,\n",
              " 100.0: 0.9117647058823529,\n",
              " 1000.0: 0.9117647058823529}"
            ]
          },
          "metadata": {},
          "execution_count": 301
        },
        {
          "output_type": "display_data",
          "data": {
            "text/plain": [
              "<Figure size 360x288 with 1 Axes>"
            ],
            "image/png": "[encoded data removed]"
          },
          "metadata": {}
        }
      ],
      "source": [
        "#creating a list of C values and two empty lists for the scores\n",
        "C_values = [0.001,0.01,0.1,1.0,10.0,100.0,1000.0]\n",
        "train_score = []\n",
        "test_score = []\n",
        "\n",
        "for c in C_values:\n",
        "  #Initializing logistic regression\n",
        "  log_reg = LogisticRegression(C=c, max_iter=1000, solver='liblinear', penalty='l2')\n",
        "  #creating a pipeline\n",
        "  log_reg_pipe = make_pipeline(preprocessor, log_reg)\n",
        "  #fitting the model \n",
        "  log_reg_pipe.fit(X_train, y_train)\n",
        "  #append the scores to the train_score variable\n",
        "  train_score.append(log_reg_pipe.score(X_train, y_train))\n",
        "  #append the scores to the test_score variable\n",
        "  test_score.append(log_reg_pipe.score(X_test, y_test))\n",
        "\n",
        "#plotting the scores.\n",
        "fig, ax = plt.subplots(1,1)\n",
        "ax.plot(C_values, train_score, label = 'Training Accuracy')\n",
        "ax.plot(C_values, test_score, label = 'Testing Accuracy')\n",
        "ax.set_xticks(C_values)\n",
        "ax.set_title('Accuracy changes over C values with L2 regularization & Solver = Saga')\n",
        "ax.legend()\n",
        "ax.set_xscale('log')\n",
        "\n",
        "#printing the resutls. \n",
        "print('Test Scores:')\n",
        "{c:score for c,score in zip(C_values, test_score)}"
      ]
    },
    {
      "cell_type": "markdown",
      "source": [
        "While we see a flat curve for testing score, the training curve has more variation. "
      ],
      "metadata": {
        "id": "Ups8VF0wm-Zc"
      }
    },
    {
      "cell_type": "markdown",
      "source": [
        "### Logistic Regression Model choice\n",
        "- Penalty = L2\n",
        "- Solver = Saga\n",
        "- C = 10.0"
      ],
      "metadata": {
        "id": "9b5-n8lvnSbc"
      }
    },
    {
      "cell_type": "markdown",
      "source": [
        "#### Logistic Regression Tuned Model "
      ],
      "metadata": {
        "id": "FWqb1yJpnexj"
      }
    },
    {
      "cell_type": "code",
      "execution_count": 302,
      "metadata": {
        "colab": {
          "base_uri": "https://localhost:8080/"
        },
        "id": "O4VWwbRHjOt_",
        "outputId": "85799d17-cbc2-4cb8-f960-53314ea82691"
      },
      "outputs": [
        {
          "output_type": "execute_result",
          "data": {
            "text/plain": [
              "array([1, 0, 0, 0, 1, 1, 0, 0, 0, 1, 1, 0, 0, 0, 1, 1, 0, 0, 1, 0, 0, 0,\n",
              "       0, 0, 0, 0, 0, 1, 1, 1, 1, 0, 0, 1, 0, 1, 1, 1, 1, 1, 0, 1, 1, 0,\n",
              "       0, 0, 1, 0, 0, 0, 0, 1, 1, 1, 0, 1, 0, 1, 0, 0, 0, 0, 1, 0, 0, 1,\n",
              "       1, 1])"
            ]
          },
          "metadata": {},
          "execution_count": 302
        }
      ],
      "source": [
        "#initializing the model \n",
        "log_reg_tuned = LogisticRegression(C=10.0, max_iter=1000, solver='saga', penalty='l2')\n",
        "\n",
        "#making a pipeline\n",
        "tuned_log_reg_pipeline = make_pipeline(preprocessor, log_reg_tuned)\n",
        "\n",
        "#fitting the data\n",
        "tuned_log_reg_pipeline.fit(X_train, y_train)\n",
        "\n",
        "#predicting\n",
        "tuned_log_pred_X_test = tuned_log_reg_pipeline.predict(X_test)\n",
        "\n",
        "#printing prediction\n",
        "tuned_log_pred_X_test"
      ]
    },
    {
      "cell_type": "code",
      "source": [
        "#confusion matrix\n",
        "c_mat = confusion_matrix(y_test, tuned_log_pred_X_test, normalize='true')\n",
        "#converting the matrix into a dataframe\n",
        "cmat_df = pd.DataFrame(c_mat)\n",
        "cmat_df"
      ],
      "metadata": {
        "colab": {
          "base_uri": "https://localhost:8080/",
          "height": 112
        },
        "id": "JMfWkUHjoFVv",
        "outputId": "35fae4e7-33e6-4430-ee7f-5393ac9cf25f"
      },
      "execution_count": 303,
      "outputs": [
        {
          "output_type": "execute_result",
          "data": {
            "text/plain": [
              "          0         1\n",
              "0  0.880952  0.119048\n",
              "1  0.038462  0.961538"
            ],
            "text/html": [
              "\n",
              "  <div id=\"df-62c9158d-0af9-4187-a88a-189f91f3d593\">\n",
              "    <div class=\"colab-df-container\">\n",
              "      <div>\n",
              "<style scoped>\n",
              "    .dataframe tbody tr th:only-of-type {\n",
              "        vertical-align: middle;\n",
              "    }\n",
              "\n",
              "    .dataframe tbody tr th {\n",
              "        vertical-align: top;\n",
              "    }\n",
              "\n",
              "    .dataframe thead th {\n",
              "        text-align: right;\n",
              "    }\n",
              "</style>\n",
              "<table border=\"1\" class=\"dataframe\">\n",
              "  <thead>\n",
              "    <tr style=\"text-align: right;\">\n",
              "      <th></th>\n",
              "      <th>0</th>\n",
              "      <th>1</th>\n",
              "    </tr>\n",
              "  </thead>\n",
              "  <tbody>\n",
              "    <tr>\n",
              "      <th>0</th>\n",
              "      <td>0.880952</td>\n",
              "      <td>0.119048</td>\n",
              "    </tr>\n",
              "    <tr>\n",
              "      <th>1</th>\n",
              "      <td>0.038462</td>\n",
              "      <td>0.961538</td>\n",
              "    </tr>\n",
              "  </tbody>\n",
              "</table>\n",
              "</div>\n",
              "      <button class=\"colab-df-convert\" onclick=\"convertToInteractive('df-62c9158d-0af9-4187-a88a-189f91f3d593')\"\n",
              "              title=\"Convert this dataframe to an interactive table.\"\n",
              "              style=\"display:none;\">\n",
              "        \n",
              "  <svg xmlns=\"http://www.w3.org/2000/svg\" height=\"24px\"viewBox=\"0 0 24 24\"\n",
              "       width=\"24px\">\n",
              "    <path d=\"M0 0h24v24H0V0z\" fill=\"none\"/>\n",
              "    <path d=\"M18.56 5.44l.94 2.06.94-2.06 2.06-.94-2.06-.94-.94-2.06-.94 2.06-2.06.94zm-11 1L8.5 8.5l.94-2.06 2.06-.94-2.06-.94L8.5 2.5l-.94 2.06-2.06.94zm10 10l.94 2.06.94-2.06 2.06-.94-2.06-.94-.94-2.06-.94 2.06-2.06.94z\"/><path d=\"M17.41 7.96l-1.37-1.37c-.4-.4-.92-.59-1.43-.59-.52 0-1.04.2-1.43.59L10.3 9.45l-7.72 7.72c-.78.78-.78 2.05 0 2.83L4 21.41c.39.39.9.59 1.41.59.51 0 1.02-.2 1.41-.59l7.78-7.78 2.81-2.81c.8-.78.8-2.07 0-2.86zM5.41 20L4 18.59l7.72-7.72 1.47 1.35L5.41 20z\"/>\n",
              "  </svg>\n",
              "      </button>\n",
              "      \n",
              "  <style>\n",
              "    .colab-df-container {\n",
              "      display:flex;\n",
              "      flex-wrap:wrap;\n",
              "      gap: 12px;\n",
              "    }\n",
              "\n",
              "    .colab-df-convert {\n",
              "      background-color: #E8F0FE;\n",
              "      border: none;\n",
              "      border-radius: 50%;\n",
              "      cursor: pointer;\n",
              "      display: none;\n",
              "      fill: #1967D2;\n",
              "      height: 32px;\n",
              "      padding: 0 0 0 0;\n",
              "      width: 32px;\n",
              "    }\n",
              "\n",
              "    .colab-df-convert:hover {\n",
              "      background-color: #E2EBFA;\n",
              "      box-shadow: 0px 1px 2px rgba(60, 64, 67, 0.3), 0px 1px 3px 1px rgba(60, 64, 67, 0.15);\n",
              "      fill: #174EA6;\n",
              "    }\n",
              "\n",
              "    [theme=dark] .colab-df-convert {\n",
              "      background-color: #3B4455;\n",
              "      fill: #D2E3FC;\n",
              "    }\n",
              "\n",
              "    [theme=dark] .colab-df-convert:hover {\n",
              "      background-color: #434B5C;\n",
              "      box-shadow: 0px 1px 3px 1px rgba(0, 0, 0, 0.15);\n",
              "      filter: drop-shadow(0px 1px 2px rgba(0, 0, 0, 0.3));\n",
              "      fill: #FFFFFF;\n",
              "    }\n",
              "  </style>\n",
              "\n",
              "      <script>\n",
              "        const buttonEl =\n",
              "          document.querySelector('#df-62c9158d-0af9-4187-a88a-189f91f3d593 button.colab-df-convert');\n",
              "        buttonEl.style.display =\n",
              "          google.colab.kernel.accessAllowed ? 'block' : 'none';\n",
              "\n",
              "        async function convertToInteractive(key) {\n",
              "          const element = document.querySelector('#df-62c9158d-0af9-4187-a88a-189f91f3d593');\n",
              "          const dataTable =\n",
              "            await google.colab.kernel.invokeFunction('convertToInteractive',\n",
              "                                                     [key], {});\n",
              "          if (!dataTable) return;\n",
              "\n",
              "          const docLinkHtml = 'Like what you see? Visit the ' +\n",
              "            '<a target=\"_blank\" href=https://colab.research.google.com/notebooks/data_table.ipynb>data table notebook</a>'\n",
              "            + ' to learn more about interactive tables.';\n",
              "          element.innerHTML = '';\n",
              "          dataTable['output_type'] = 'display_data';\n",
              "          await google.colab.output.renderOutput(dataTable, element);\n",
              "          const docLink = document.createElement('div');\n",
              "          docLink.innerHTML = docLinkHtml;\n",
              "          element.appendChild(docLink);\n",
              "        }\n",
              "      </script>\n",
              "    </div>\n",
              "  </div>\n",
              "  "
            ]
          },
          "metadata": {},
          "execution_count": 303
        }
      ]
    },
    {
      "cell_type": "code",
      "source": [
        "# Plotting the confusion matrix\n",
        "ConfusionMatrixDisplay.from_predictions(y_test, pred, normalize='true', cmap = 'Blues' );"
      ],
      "metadata": {
        "colab": {
          "base_uri": "https://localhost:8080/",
          "height": 289
        },
        "id": "mzAhQBLzoFTJ",
        "outputId": "e8b9955b-0bc2-48f8-b038-bb60fd0279f6"
      },
      "execution_count": 304,
      "outputs": [
        {
          "output_type": "display_data",
          "data": {
            "text/plain": [
              "<Figure size 360x288 with 2 Axes>"
            ],
            "image/png": "[encoded data removed]"
          },
          "metadata": {}
        }
      ]
    },
    {
      "cell_type": "markdown",
      "source": [
        "The tuned model gave very similar scores. "
      ],
      "metadata": {
        "id": "srDCBHxQo2Ix"
      }
    },
    {
      "cell_type": "markdown",
      "source": [
        "### KNN default model"
      ],
      "metadata": {
        "id": "4ziWEv8GpDOA"
      }
    },
    {
      "cell_type": "code",
      "source": [
        "#importing KNN Classifier model. \n",
        "from sklearn.neighbors import KNeighborsClassifier\n",
        "\n",
        "#initializing KNN models. \n",
        "knn = KNeighborsClassifier(n_neighbors=1)\n",
        "\n",
        "#creating a pipeline \n",
        "knn_prep_pipe = make_pipeline(preprocessor, knn) \n",
        "\n",
        "#fitting the data \n",
        "knn_prep_pipe.fit(X_train, y_train) \n",
        "\n",
        "#making predictions \n",
        "knn_default_predictions_test = knn_prep_pipe.predict(X_test) \n",
        "knn_default_predictions_test"
      ],
      "metadata": {
        "colab": {
          "base_uri": "https://localhost:8080/"
        },
        "id": "9Y2W2jRUoFQy",
        "outputId": "37121ffb-7766-4344-bdac-eb3ffd48f189"
      },
      "execution_count": 305,
      "outputs": [
        {
          "output_type": "execute_result",
          "data": {
            "text/plain": [
              "array([1, 0, 0, 1, 1, 1, 1, 0, 0, 1, 1, 0, 0, 0, 1, 1, 0, 0, 1, 0, 0, 0,\n",
              "       0, 0, 0, 0, 0, 1, 1, 1, 1, 0, 0, 1, 0, 1, 1, 1, 1, 1, 0, 1, 1, 0,\n",
              "       0, 0, 1, 0, 0, 0, 1, 1, 1, 1, 1, 1, 0, 1, 0, 0, 0, 0, 1, 0, 0, 1,\n",
              "       1, 1])"
            ]
          },
          "metadata": {},
          "execution_count": 305
        }
      ]
    },
    {
      "cell_type": "markdown",
      "source": [
        "#### Printing the models"
      ],
      "metadata": {
        "id": "_wZ8N-AFF-8m"
      }
    },
    {
      "cell_type": "code",
      "source": [
        "#printing the scores of both training and testing model \n",
        "print(\"Log default model train score\" + \" \"+ str(knn_prep_pipe.score(X_train, y_train)))\n",
        "print(\"Log default model test score\" + \" \"+ str(knn_prep_pipe.score(X_test, y_test)))"
      ],
      "metadata": {
        "colab": {
          "base_uri": "https://localhost:8080/"
        },
        "id": "XduYbciAoFOc",
        "outputId": "059f6171-a36e-4c46-c77c-f7160a3871ed"
      },
      "execution_count": 306,
      "outputs": [
        {
          "output_type": "stream",
          "name": "stdout",
          "text": [
            "Log default model train score 1.0\n",
            "Log default model test score 0.8823529411764706\n"
          ]
        }
      ]
    },
    {
      "cell_type": "markdown",
      "source": [
        "#### Confusion Matrix"
      ],
      "metadata": {
        "id": "w4CabBgeGChf"
      }
    },
    {
      "cell_type": "code",
      "source": [
        "#creating a confusion matrix\n",
        "knn_c_mat = confusion_matrix(y_test, knn_default_predictions_test, normalize='true')\n",
        "\n",
        "#converting the matrix into a dataframe\n",
        "cmat_df = pd.DataFrame(knn_c_mat)\n",
        "cmat_df"
      ],
      "metadata": {
        "colab": {
          "base_uri": "https://localhost:8080/",
          "height": 112
        },
        "id": "6yAKRRXMoFMH",
        "outputId": "2f99ff99-e7a8-4142-d86e-b76d65a3ccf6"
      },
      "execution_count": 307,
      "outputs": [
        {
          "output_type": "execute_result",
          "data": {
            "text/plain": [
              "          0         1\n",
              "0  0.809524  0.190476\n",
              "1  0.000000  1.000000"
            ],
            "text/html": [
              "\n",
              "  <div id=\"df-d28afdee-cafa-4427-b2d7-d3352a220d1f\">\n",
              "    <div class=\"colab-df-container\">\n",
              "      <div>\n",
              "<style scoped>\n",
              "    .dataframe tbody tr th:only-of-type {\n",
              "        vertical-align: middle;\n",
              "    }\n",
              "\n",
              "    .dataframe tbody tr th {\n",
              "        vertical-align: top;\n",
              "    }\n",
              "\n",
              "    .dataframe thead th {\n",
              "        text-align: right;\n",
              "    }\n",
              "</style>\n",
              "<table border=\"1\" class=\"dataframe\">\n",
              "  <thead>\n",
              "    <tr style=\"text-align: right;\">\n",
              "      <th></th>\n",
              "      <th>0</th>\n",
              "      <th>1</th>\n",
              "    </tr>\n",
              "  </thead>\n",
              "  <tbody>\n",
              "    <tr>\n",
              "      <th>0</th>\n",
              "      <td>0.809524</td>\n",
              "      <td>0.190476</td>\n",
              "    </tr>\n",
              "    <tr>\n",
              "      <th>1</th>\n",
              "      <td>0.000000</td>\n",
              "      <td>1.000000</td>\n",
              "    </tr>\n",
              "  </tbody>\n",
              "</table>\n",
              "</div>\n",
              "      <button class=\"colab-df-convert\" onclick=\"convertToInteractive('df-d28afdee-cafa-4427-b2d7-d3352a220d1f')\"\n",
              "              title=\"Convert this dataframe to an interactive table.\"\n",
              "              style=\"display:none;\">\n",
              "        \n",
              "  <svg xmlns=\"http://www.w3.org/2000/svg\" height=\"24px\"viewBox=\"0 0 24 24\"\n",
              "       width=\"24px\">\n",
              "    <path d=\"M0 0h24v24H0V0z\" fill=\"none\"/>\n",
              "    <path d=\"M18.56 5.44l.94 2.06.94-2.06 2.06-.94-2.06-.94-.94-2.06-.94 2.06-2.06.94zm-11 1L8.5 8.5l.94-2.06 2.06-.94-2.06-.94L8.5 2.5l-.94 2.06-2.06.94zm10 10l.94 2.06.94-2.06 2.06-.94-2.06-.94-.94-2.06-.94 2.06-2.06.94z\"/><path d=\"M17.41 7.96l-1.37-1.37c-.4-.4-.92-.59-1.43-.59-.52 0-1.04.2-1.43.59L10.3 9.45l-7.72 7.72c-.78.78-.78 2.05 0 2.83L4 21.41c.39.39.9.59 1.41.59.51 0 1.02-.2 1.41-.59l7.78-7.78 2.81-2.81c.8-.78.8-2.07 0-2.86zM5.41 20L4 18.59l7.72-7.72 1.47 1.35L5.41 20z\"/>\n",
              "  </svg>\n",
              "      </button>\n",
              "      \n",
              "  <style>\n",
              "    .colab-df-container {\n",
              "      display:flex;\n",
              "      flex-wrap:wrap;\n",
              "      gap: 12px;\n",
              "    }\n",
              "\n",
              "    .colab-df-convert {\n",
              "      background-color: #E8F0FE;\n",
              "      border: none;\n",
              "      border-radius: 50%;\n",
              "      cursor: pointer;\n",
              "      display: none;\n",
              "      fill: #1967D2;\n",
              "      height: 32px;\n",
              "      padding: 0 0 0 0;\n",
              "      width: 32px;\n",
              "    }\n",
              "\n",
              "    .colab-df-convert:hover {\n",
              "      background-color: #E2EBFA;\n",
              "      box-shadow: 0px 1px 2px rgba(60, 64, 67, 0.3), 0px 1px 3px 1px rgba(60, 64, 67, 0.15);\n",
              "      fill: #174EA6;\n",
              "    }\n",
              "\n",
              "    [theme=dark] .colab-df-convert {\n",
              "      background-color: #3B4455;\n",
              "      fill: #D2E3FC;\n",
              "    }\n",
              "\n",
              "    [theme=dark] .colab-df-convert:hover {\n",
              "      background-color: #434B5C;\n",
              "      box-shadow: 0px 1px 3px 1px rgba(0, 0, 0, 0.15);\n",
              "      filter: drop-shadow(0px 1px 2px rgba(0, 0, 0, 0.3));\n",
              "      fill: #FFFFFF;\n",
              "    }\n",
              "  </style>\n",
              "\n",
              "      <script>\n",
              "        const buttonEl =\n",
              "          document.querySelector('#df-d28afdee-cafa-4427-b2d7-d3352a220d1f button.colab-df-convert');\n",
              "        buttonEl.style.display =\n",
              "          google.colab.kernel.accessAllowed ? 'block' : 'none';\n",
              "\n",
              "        async function convertToInteractive(key) {\n",
              "          const element = document.querySelector('#df-d28afdee-cafa-4427-b2d7-d3352a220d1f');\n",
              "          const dataTable =\n",
              "            await google.colab.kernel.invokeFunction('convertToInteractive',\n",
              "                                                     [key], {});\n",
              "          if (!dataTable) return;\n",
              "\n",
              "          const docLinkHtml = 'Like what you see? Visit the ' +\n",
              "            '<a target=\"_blank\" href=https://colab.research.google.com/notebooks/data_table.ipynb>data table notebook</a>'\n",
              "            + ' to learn more about interactive tables.';\n",
              "          element.innerHTML = '';\n",
              "          dataTable['output_type'] = 'display_data';\n",
              "          await google.colab.output.renderOutput(dataTable, element);\n",
              "          const docLink = document.createElement('div');\n",
              "          docLink.innerHTML = docLinkHtml;\n",
              "          element.appendChild(docLink);\n",
              "        }\n",
              "      </script>\n",
              "    </div>\n",
              "  </div>\n",
              "  "
            ]
          },
          "metadata": {},
          "execution_count": 307
        }
      ]
    },
    {
      "cell_type": "code",
      "source": [
        "#diplaying the matrix\n",
        "ConfusionMatrixDisplay.from_predictions(y_test, knn_default_predictions_test, normalize='true', cmap = 'Blues' );"
      ],
      "metadata": {
        "colab": {
          "base_uri": "https://localhost:8080/",
          "height": 289
        },
        "id": "qnsLLh7FoFJg",
        "outputId": "7c796153-8b70-4996-f3e1-007e65bd377d"
      },
      "execution_count": 308,
      "outputs": [
        {
          "output_type": "display_data",
          "data": {
            "text/plain": [
              "<Figure size 360x288 with 2 Axes>"
            ],
            "image/png": "[encoded data removed]"
          },
          "metadata": {}
        }
      ]
    },
    {
      "cell_type": "markdown",
      "source": [
        "This model is not bettwe than the tuned Logistic Regression Model. "
      ],
      "metadata": {
        "id": "dPgOni9YGXCx"
      }
    },
    {
      "cell_type": "markdown",
      "source": [
        "### Tuning KNN model "
      ],
      "metadata": {
        "id": "y9yQl4r3qDU3"
      }
    },
    {
      "cell_type": "code",
      "source": [
        "#importing the accuracy score\n",
        "from sklearn.metrics import accuracy_score \n",
        "\n",
        "#setting a knn range\n",
        "knn_range = range(1,50)\n",
        "#creating an empty test_accuracy variable\n",
        "test_accuracy = []\n",
        "#Setting best_accuracy and best_k variables to zero as they will be appended soon\n",
        "best_accuracy = 0\n",
        "best_k = 0\n",
        "\n",
        "#creating a loop to find the best n_neighbors for the model. \n",
        "for k in knn_range:\n",
        "  #initialing KNN\n",
        "  knn = KNeighborsClassifier(n_neighbors=k)\n",
        "\n",
        "  #creating the pipeline of preprocessor and KNN\n",
        "  knn_prep_pipe = make_pipeline(preprocessor, knn)\n",
        "  \n",
        "  #fitting the model. \n",
        "  knn_prep_pipe.fit(X_train, y_train)\n",
        "\n",
        "  #predicting and finding the accuracy of the model. \n",
        "  predict_test = knn_prep_pipe.predict(X_test)\n",
        "\n",
        "  #creating an accuracy variable\n",
        "  acc = accuracy_score(y_test, predict_test)\n",
        "\n",
        "  #finding the best accuracy and the best k values\n",
        "  if acc > best_accuracy:\n",
        "    best_accuracy = acc\n",
        "    best_k = k\n",
        "\n",
        "  #appending the best values to test_accuracy\n",
        "  test_accuracy.append(acc)\n",
        "\n",
        "#plotting the findings\n",
        "plt.figure(figsize = (13,6))\n",
        "plt.plot(knn_range, test_accuracy, label = 'Best KNN Scores')\n",
        "plt.show()\n",
        "\n",
        "#best k value and best accuracy\n",
        "print(f'The best accuracy {best_accuracy}. \\nThe best n_neighbor score {best_k}. ')"
      ],
      "metadata": {
        "colab": {
          "base_uri": "https://localhost:8080/",
          "height": 412
        },
        "id": "uRbbU-m-oFG7",
        "outputId": "874f777c-fc25-4f28-9ddc-66b49d625218"
      },
      "execution_count": 309,
      "outputs": [
        {
          "output_type": "display_data",
          "data": {
            "text/plain": [
              "<Figure size 936x432 with 1 Axes>"
            ],
            "image/png": "[encoded data removed]"
          },
          "metadata": {}
        },
        {
          "output_type": "stream",
          "name": "stdout",
          "text": [
            "The best accuracy 0.8823529411764706. \n",
            "The best n_neighbor score 1. \n"
          ]
        }
      ]
    },
    {
      "cell_type": "markdown",
      "source": [
        "With n_neighbor = 5, we get our best score of 97%"
      ],
      "metadata": {
        "id": "PFQhIkifrWnE"
      }
    },
    {
      "cell_type": "markdown",
      "source": [
        "#### Creating the tuned KNN model."
      ],
      "metadata": {
        "id": "bkeo9E8FrduB"
      }
    },
    {
      "cell_type": "code",
      "source": [
        "#creating a pipeline\n",
        "tuned_knn_model = make_pipeline(preprocessor, KNeighborsClassifier(n_neighbors= 5))\n",
        "\n",
        "#fitting the model \n",
        "tuned_knn_model.fit(X_train, y_train)\n",
        "\n",
        "#making the predictions\n",
        "tuned_knn_predict = tuned_knn_model.predict(X_test)\n",
        "tuned_knn_predict"
      ],
      "metadata": {
        "colab": {
          "base_uri": "https://localhost:8080/"
        },
        "id": "NAWggsXKrda-",
        "outputId": "37e6c5ae-982a-4e83-a70b-431be7ffafd9"
      },
      "execution_count": 310,
      "outputs": [
        {
          "output_type": "execute_result",
          "data": {
            "text/plain": [
              "array([1, 0, 0, 1, 1, 1, 1, 0, 0, 1, 1, 0, 0, 0, 1, 1, 0, 0, 1, 0, 0, 1,\n",
              "       0, 0, 0, 0, 0, 1, 1, 1, 1, 0, 0, 1, 0, 1, 1, 1, 1, 1, 0, 1, 1, 0,\n",
              "       0, 0, 1, 0, 0, 0, 1, 1, 1, 1, 1, 1, 0, 1, 0, 0, 1, 0, 1, 0, 0, 1,\n",
              "       1, 1])"
            ]
          },
          "metadata": {},
          "execution_count": 310
        }
      ]
    },
    {
      "cell_type": "code",
      "source": [
        "#creating a confusion matrix\n",
        "tuned_knn_c_mat = confusion_matrix(y_test, tuned_knn_predict, normalize='true')\n",
        "\n",
        "#converting the matrix into a dataframe\n",
        "tuned_cmat_df = pd.DataFrame(tuned_knn_c_mat)\n",
        "tuned_cmat_df"
      ],
      "metadata": {
        "colab": {
          "base_uri": "https://localhost:8080/",
          "height": 112
        },
        "id": "BQP2rwU6r21k",
        "outputId": "e39695ff-cd3a-45a3-d956-5bc63beef507"
      },
      "execution_count": 311,
      "outputs": [
        {
          "output_type": "execute_result",
          "data": {
            "text/plain": [
              "          0         1\n",
              "0  0.761905  0.238095\n",
              "1  0.000000  1.000000"
            ],
            "text/html": [
              "\n",
              "  <div id=\"df-c5a2cb35-307f-40dd-8866-c4014a8f4970\">\n",
              "    <div class=\"colab-df-container\">\n",
              "      <div>\n",
              "<style scoped>\n",
              "    .dataframe tbody tr th:only-of-type {\n",
              "        vertical-align: middle;\n",
              "    }\n",
              "\n",
              "    .dataframe tbody tr th {\n",
              "        vertical-align: top;\n",
              "    }\n",
              "\n",
              "    .dataframe thead th {\n",
              "        text-align: right;\n",
              "    }\n",
              "</style>\n",
              "<table border=\"1\" class=\"dataframe\">\n",
              "  <thead>\n",
              "    <tr style=\"text-align: right;\">\n",
              "      <th></th>\n",
              "      <th>0</th>\n",
              "      <th>1</th>\n",
              "    </tr>\n",
              "  </thead>\n",
              "  <tbody>\n",
              "    <tr>\n",
              "      <th>0</th>\n",
              "      <td>0.761905</td>\n",
              "      <td>0.238095</td>\n",
              "    </tr>\n",
              "    <tr>\n",
              "      <th>1</th>\n",
              "      <td>0.000000</td>\n",
              "      <td>1.000000</td>\n",
              "    </tr>\n",
              "  </tbody>\n",
              "</table>\n",
              "</div>\n",
              "      <button class=\"colab-df-convert\" onclick=\"convertToInteractive('df-c5a2cb35-307f-40dd-8866-c4014a8f4970')\"\n",
              "              title=\"Convert this dataframe to an interactive table.\"\n",
              "              style=\"display:none;\">\n",
              "        \n",
              "  <svg xmlns=\"http://www.w3.org/2000/svg\" height=\"24px\"viewBox=\"0 0 24 24\"\n",
              "       width=\"24px\">\n",
              "    <path d=\"M0 0h24v24H0V0z\" fill=\"none\"/>\n",
              "    <path d=\"M18.56 5.44l.94 2.06.94-2.06 2.06-.94-2.06-.94-.94-2.06-.94 2.06-2.06.94zm-11 1L8.5 8.5l.94-2.06 2.06-.94-2.06-.94L8.5 2.5l-.94 2.06-2.06.94zm10 10l.94 2.06.94-2.06 2.06-.94-2.06-.94-.94-2.06-.94 2.06-2.06.94z\"/><path d=\"M17.41 7.96l-1.37-1.37c-.4-.4-.92-.59-1.43-.59-.52 0-1.04.2-1.43.59L10.3 9.45l-7.72 7.72c-.78.78-.78 2.05 0 2.83L4 21.41c.39.39.9.59 1.41.59.51 0 1.02-.2 1.41-.59l7.78-7.78 2.81-2.81c.8-.78.8-2.07 0-2.86zM5.41 20L4 18.59l7.72-7.72 1.47 1.35L5.41 20z\"/>\n",
              "  </svg>\n",
              "      </button>\n",
              "      \n",
              "  <style>\n",
              "    .colab-df-container {\n",
              "      display:flex;\n",
              "      flex-wrap:wrap;\n",
              "      gap: 12px;\n",
              "    }\n",
              "\n",
              "    .colab-df-convert {\n",
              "      background-color: #E8F0FE;\n",
              "      border: none;\n",
              "      border-radius: 50%;\n",
              "      cursor: pointer;\n",
              "      display: none;\n",
              "      fill: #1967D2;\n",
              "      height: 32px;\n",
              "      padding: 0 0 0 0;\n",
              "      width: 32px;\n",
              "    }\n",
              "\n",
              "    .colab-df-convert:hover {\n",
              "      background-color: #E2EBFA;\n",
              "      box-shadow: 0px 1px 2px rgba(60, 64, 67, 0.3), 0px 1px 3px 1px rgba(60, 64, 67, 0.15);\n",
              "      fill: #174EA6;\n",
              "    }\n",
              "\n",
              "    [theme=dark] .colab-df-convert {\n",
              "      background-color: #3B4455;\n",
              "      fill: #D2E3FC;\n",
              "    }\n",
              "\n",
              "    [theme=dark] .colab-df-convert:hover {\n",
              "      background-color: #434B5C;\n",
              "      box-shadow: 0px 1px 3px 1px rgba(0, 0, 0, 0.15);\n",
              "      filter: drop-shadow(0px 1px 2px rgba(0, 0, 0, 0.3));\n",
              "      fill: #FFFFFF;\n",
              "    }\n",
              "  </style>\n",
              "\n",
              "      <script>\n",
              "        const buttonEl =\n",
              "          document.querySelector('#df-c5a2cb35-307f-40dd-8866-c4014a8f4970 button.colab-df-convert');\n",
              "        buttonEl.style.display =\n",
              "          google.colab.kernel.accessAllowed ? 'block' : 'none';\n",
              "\n",
              "        async function convertToInteractive(key) {\n",
              "          const element = document.querySelector('#df-c5a2cb35-307f-40dd-8866-c4014a8f4970');\n",
              "          const dataTable =\n",
              "            await google.colab.kernel.invokeFunction('convertToInteractive',\n",
              "                                                     [key], {});\n",
              "          if (!dataTable) return;\n",
              "\n",
              "          const docLinkHtml = 'Like what you see? Visit the ' +\n",
              "            '<a target=\"_blank\" href=https://colab.research.google.com/notebooks/data_table.ipynb>data table notebook</a>'\n",
              "            + ' to learn more about interactive tables.';\n",
              "          element.innerHTML = '';\n",
              "          dataTable['output_type'] = 'display_data';\n",
              "          await google.colab.output.renderOutput(dataTable, element);\n",
              "          const docLink = document.createElement('div');\n",
              "          docLink.innerHTML = docLinkHtml;\n",
              "          element.appendChild(docLink);\n",
              "        }\n",
              "      </script>\n",
              "    </div>\n",
              "  </div>\n",
              "  "
            ]
          },
          "metadata": {},
          "execution_count": 311
        }
      ]
    },
    {
      "cell_type": "code",
      "source": [
        "#displaying the matrix\n",
        "ConfusionMatrixDisplay.from_predictions(y_test, tuned_knn_predict, cmap='Blues',normalize='true');"
      ],
      "metadata": {
        "colab": {
          "base_uri": "https://localhost:8080/",
          "height": 289
        },
        "id": "-MmV-XWErdYX",
        "outputId": "ae7d8a0c-18e8-4f25-ba00-54288325de8c"
      },
      "execution_count": 312,
      "outputs": [
        {
          "output_type": "display_data",
          "data": {
            "text/plain": [
              "<Figure size 360x288 with 2 Axes>"
            ],
            "image/png": "[encoded data removed]"
          },
          "metadata": {}
        }
      ]
    },
    {
      "cell_type": "markdown",
      "source": [
        "##### This tuned KNN model one hundred percent correctly predicted the True Positives.\n",
        "##### The True Negatives are also better than any other model. \n",
        "\n",
        "##### 0 = drugZ\n",
        "##### 1 = drugQ\n",
        "##### P.S. here true positive means drugQ and true negative mean drugZ\n"
      ],
      "metadata": {
        "id": "Jq8RjIlgsJMC"
      }
    },
    {
      "cell_type": "markdown",
      "source": [
        "## Best Model & its Justification:\n",
        "### KNN with n_neighbors = 5 is the best model.\n",
        "### This model had the lowest False Negatives and False Positives. In other words, it made the least mistake predicting whether the patient should receive drugQ or drugZ"
      ],
      "metadata": {
        "id": "_p53bRassBTW"
      }
    }
  ],
  "metadata": {
    "kernelspec": {
      "display_name": "Python 3.9.7 ('base')",
      "language": "python",
      "name": "python3"
    },
    "language_info": {
      "codemirror_mode": {
        "name": "ipython",
        "version": 3
      },
      "file_extension": ".py",
      "mimetype": "text/x-python",
      "name": "python",
      "nbconvert_exporter": "python",
      "pygments_lexer": "ipython3",
      "version": "3.9.7"
    },
    "orig_nbformat": 4,
    "vscode": {
      "interpreter": {
        "hash": "aa9842d1c1315e4ba4e499442ba20d43fb13b60c615e2e67f23fa7ce3501b665"
      }
    },
    "colab": {
      "provenance": [],
      "collapsed_sections": [
        "hBsAb2YQjOtz",
        "LfoaQEqljOtz",
        "3dSWZRxAjOt0",
        "VV0X34y2jOt1",
        "gDbGc87xjOt3"
      ],
      "include_colab_link": true
    }
  },
  "nbformat": 4,
  "nbformat_minor": 0
}